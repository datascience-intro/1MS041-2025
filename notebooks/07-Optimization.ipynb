{
 "cells": [
  {
   "cell_type": "markdown",
   "id": "eead50a5",
   "metadata": {
    "deletable": false
   },
   "source": [
    "# [Introduction to Data Science](http://datascience-intro.github.io/1MS041-2025/)    \n",
    "## 1MS041, 2025 \n",
    "&copy;2025 Raazesh Sainudiin, Benny Avelin. [Attribution 4.0 International     (CC BY 4.0)](https://creativecommons.org/licenses/by/4.0/)"
   ]
  },
  {
   "cell_type": "markdown",
   "id": "18c1f24d",
   "metadata": {},
   "source": [
    "## A great set of lectures in Optimisation in next URL\n",
    "\n",
    "You have seen some methods in scientific computing and will see more in your programme.\n",
    "\n",
    "Here we just use some basic methods in numerical optimisation to be able to find the maximum likelihood estimate.\n",
    "\n",
    "Note that in optimisation one is interested in minimising a cost or loss, so we are interested in the following\n",
    "\n",
    "$$\\hat \\theta = \\arg\\min_{\\theta \\in \\mathbf{\\Theta}} - \\log(L(\\theta))$$"
   ]
  },
  {
   "cell_type": "code",
   "execution_count": 1,
   "id": "be0b501b",
   "metadata": {},
   "outputs": [
    {
     "data": {
      "text/html": [
       "\n",
       "        <iframe\n",
       "            width=\"95%\"\n",
       "            height=\"500\"\n",
       "            src=\"https://scipy-lectures.org/advanced/mathematical_optimization/index.html\"\n",
       "            frameborder=\"0\"\n",
       "            allowfullscreen\n",
       "            \n",
       "        ></iframe>\n",
       "        "
      ],
      "text/plain": [
       "<IPython.lib.display.IFrame at 0x1045da590>"
      ]
     },
     "execution_count": 1,
     "metadata": {},
     "output_type": "execute_result"
    }
   ],
   "source": [
    "from Utils import showURL\n",
    "showURL(\"https://scipy-lectures.org/advanced/mathematical_optimization/index.html\",500)"
   ]
  },
  {
   "cell_type": "markdown",
   "id": "bf814a6a",
   "metadata": {},
   "source": [
    "**2.7.2.1. Getting started: 1D Optimisation**\n",
    "\n",
    "This example is from https://scipy-lectures.org/advanced/mathematical_optimization/index.html#id38\n",
    "\n",
    "> Let’s get started by finding the minimum of the scalar function $f(x)=\\exp(x-0.7)^2$. \n",
    "> `scipy.optimize.minimize_scalar()` uses Brent’s method to find the minimum of a function\n",
    "\n",
    "See [docs for `scipy.optimize.minimize_scalar()`](https://docs.scipy.org/doc/scipy/reference/generated/scipy.optimize.minimize_scalar.html#scipy.optimize.minimize_scalar)."
   ]
  },
  {
   "cell_type": "code",
   "execution_count": 2,
   "id": "3892616d",
   "metadata": {},
   "outputs": [
    {
     "name": "stdout",
     "output_type": "stream",
     "text": [
      "result.success = True\n",
      "argmin_x of f(x) = 0.6999999997839409\n"
     ]
    }
   ],
   "source": [
    "# Example from https://scipy-lectures.org/advanced/mathematical_optimization/index.html#id38\n",
    "\n",
    "import numpy as np # import numpy for np.methods\n",
    "# import optimize from scipy to do numerical optimization\n",
    "from scipy import optimize\n",
    "\n",
    "#define the function f we want to minimize - see points plot below\n",
    "def f(x):\n",
    "    return -np.exp(-(x - 0.7)**2)\n",
    "\n",
    "#call the optimize.minimize_scalar method to find the minimim, argmin, etc.\n",
    "result = optimize.minimize_scalar(f)\n",
    "\n",
    "print (\"result.success = \" + str(result.success)) # check if solver was successful\n",
    "\n",
    "# argmin, i.e., the x that minimizes f(x)\n",
    "x_min = result.x\n",
    "\n",
    "# note argmin is close to the true argmin at 0.7\n",
    "print(\"argmin_x of f(x) = \" + str(x_min)) "
   ]
  },
  {
   "cell_type": "code",
   "execution_count": 3,
   "id": "925b17e2",
   "metadata": {},
   "outputs": [
    {
     "data": {
      "text/plain": [
       "<matplotlib.collections.PathCollection at 0x10d4df190>"
      ]
     },
     "execution_count": 3,
     "metadata": {},
     "output_type": "execute_result"
    },
    {
     "data": {
      "image/png": "[encoded data removed]",
      "text/plain": [
       "<Figure size 640x480 with 1 Axes>"
      ]
     },
     "metadata": {},
     "output_type": "display_data"
    }
   ],
   "source": [
    "xValuesToPlot=np.arange(-2.0,2.0,0.05)\n",
    "import matplotlib.pyplot as plt\n",
    "plt.scatter(xValuesToPlot,f(xValuesToPlot))"
   ]
  },
  {
   "cell_type": "code",
   "execution_count": 4,
   "id": "c93ac7ab",
   "metadata": {},
   "outputs": [
    {
     "name": "stdout",
     "output_type": "stream",
     "text": [
      "-1.0 12 9\n"
     ]
    }
   ],
   "source": [
    "# the value of the function's minimum, number of function evaluations, number of iterations\n",
    "print (result.fun, result.nfev, result.nit)"
   ]
  },
  {
   "cell_type": "code",
   "execution_count": 5,
   "id": "a693203e",
   "metadata": {},
   "outputs": [
    {
     "data": {
      "text/plain": [
       " message: \n",
       "          Optimization terminated successfully;\n",
       "          The returned value satisfies the termination criteria\n",
       "          (using xtol = 1.48e-08 )\n",
       " success: True\n",
       "     fun: -1.0\n",
       "       x: 0.6999999997839409\n",
       "     nit: 9\n",
       "    nfev: 12"
      ]
     },
     "execution_count": 5,
     "metadata": {},
     "output_type": "execute_result"
    }
   ],
   "source": [
    "result # we can see result directly too"
   ]
  },
  {
   "cell_type": "markdown",
   "id": "e8f6730f",
   "metadata": {},
   "source": [
    "### Bounded 1D Optimisation\n",
    "\n",
    "In MLe problems we often want to optimise or minimise $f(x)$ while constraining of bounding $x$ to be inside an interval, say $[0,1]$. This is possible using `method='bounded'` in our previous example. The implementation uses Brent's method under the set constraints. \n",
    "\n",
    "See [docs for `scipy.optimize.minimize_scalar()`](https://docs.scipy.org/doc/scipy/reference/generated/scipy.optimize.minimize_scalar.html#scipy.optimize.minimize_scalar)."
   ]
  },
  {
   "cell_type": "code",
   "execution_count": 6,
   "id": "e364c5fa",
   "metadata": {},
   "outputs": [
    {
     "data": {
      "text/plain": [
       " message: Solution found.\n",
       " success: True\n",
       "  status: 0\n",
       "     fun: -0.9999999999997916\n",
       "       x: 0.6999995435529417\n",
       "     nit: 8\n",
       "    nfev: 8"
      ]
     },
     "execution_count": 6,
     "metadata": {},
     "output_type": "execute_result"
    }
   ],
   "source": [
    "import numpy as np\n",
    "from scipy import optimize\n",
    "\n",
    "def f(x):\n",
    "    return -np.exp(-(x - 0.7)**2)\n",
    "\n",
    "initial_x = 0.5 # this is where we are initialising the iterative search\n",
    "boundedResult = optimize.minimize_scalar(f, initial_x, bounds=(0, 1), method='bounded')\n",
    "boundedResult"
   ]
  },
  {
   "cell_type": "markdown",
   "id": "0892af80",
   "metadata": {},
   "source": [
    "### Maximum Likelihood Estimate using Optimisation\n",
    "\n",
    "Let us apply the above idea in **Bounded 1D Optimisation** to find the MLe for statistical experiments from $n$ IID samples that are assumed to drawn from a random variable with only one real-valued parameter that satisfies some given  constraints.\n",
    "\n",
    "We can thus get the MLe by minimising the negative log likelihood function *numerically* using *floating-point numbers* via `numpy` ans `scipy` libraries/packages (such methods are also  called *scientific computing*) .\n",
    "\n",
    "This approach is easier in a sense as you only need the likelhood expression, however, it comes at a price. The solutions do not in general have guarantees unless various conditions are satisfied. However, a lot of successful methods in statistical machine learning and AI are based on such methods!"
   ]
  },
  {
   "cell_type": "markdown",
   "id": "2a13ff21",
   "metadata": {},
   "source": [
    "## Multi-dimensional Constrained Optimisation\n",
    "\n",
    "The following example is from [2.7.7.1. Box bounds](https://scipy-lectures.org/advanced/mathematical_optimization/index.html#id54) of [scipy lectures on mathematical optimisation](https://scipy-lectures.org/advanced/mathematical_optimization/index.html).\n",
    "\n",
    "We want to find the argument that minimises the function $f$ of two variables $(x_1,x_2)$\n",
    "$$\n",
    "argmin_{(x_1,x_2) \\in [-1.5,1.5]^2} f(x_1,x_2) = \\sqrt{\\left( (x_1 - 3)^2 + (x_2 - 2)^2 \\right)}\n",
    "$$\n",
    "but while constraining $(x_1,x_2)$ to lie within the bounding box given by the square $[-1.5,1.5]^2 := [-1.5,1.5] \\times [-1.5,1.5]$.\n",
    "\n",
    "<br>\n",
    "<br>\n",
    "\n",
    "<img src=\"https://scipy-lectures.org/_images/sphx_glr_plot_constraints_002.png\">\n",
    "\n",
    "<br>\n",
    "\n",
    "We can use this iterative numerical method called `optimize.minimize` to find the MLe of statistical experiments that have more than one parameter using:\n",
    "\n",
    "- the numerical expression for a function `f` we want to minimise\n",
    "  - for us, `f` will be `negLogLkl`, the negative log likelihood function (or any other loss for that matter), for a given `dataset`\n",
    "- specifying `parameter_bounding_box`, the appropriate bounding boxes for the parameters (so the likelihood is well-defined)\n",
    "- specifying `initial_arguments` for the initial values for the parameters in the iterative `optimize.minimize` method\n",
    "  - make sure the initial value is within the bounding box!\n",
    "\n",
    "You should have seen these ideas in some form in your scientific computing courses, if not, don't worry as you will see them soon in more advanced scientific computing courses you will be taking in the future.\n",
    "\n",
    "If you want to use the source to deepen your understanding through a great set of codes and lecture notes that will help you understand what is going on when we call `optimize.minimize` method, then please feel free to dive here:\n",
    "\n",
    "- [https://scipy-lectures.org/advanced/mathematical_optimization/auto_examples/plot_gradient_descent.html#sphx-glr-advanced-mathematical-optimization-auto-examples-plot-gradient-descent-py](https://scipy-lectures.org/advanced/mathematical_optimization/auto_examples/plot_gradient_descent.html#sphx-glr-advanced-mathematical-optimization-auto-examples-plot-gradient-descent-py)"
   ]
  },
  {
   "cell_type": "code",
   "execution_count": 7,
   "id": "571716af",
   "metadata": {},
   "outputs": [
    {
     "data": {
      "text/plain": [
       "  message: CONVERGENCE: NORM OF PROJECTED GRADIENT <= PGTOL\n",
       "  success: True\n",
       "   status: 0\n",
       "      fun: 1.5811388300841898\n",
       "        x: [ 1.500e+00  1.500e+00]\n",
       "      nit: 2\n",
       "      jac: [-9.487e-01 -3.162e-01]\n",
       "     nfev: 9\n",
       "     njev: 3\n",
       " hess_inv: <2x2 LbfgsInvHessProduct with dtype=float64>"
      ]
     },
     "execution_count": 7,
     "metadata": {},
     "output_type": "execute_result"
    }
   ],
   "source": [
    "import numpy as np\n",
    "from scipy import optimize\n",
    "\n",
    "# define the objective/cost/loss function we want to minimise\n",
    "def f(x):\n",
    "    return np.sqrt((x[0] - 3)**2 + (x[1] - 2)**2)\n",
    "\n",
    "# multi-dimensional optimisation is syntactically similar to 1D, \n",
    "# but we are using Gradient and Hessian information from numerical evaluation of f to \n",
    "# iteratively improve the solution along the steepest direction, etc. \n",
    "# It 'LBFGS' method you will see in scientific computing\n",
    "parameter_bounding_box=((-1.5, 1.5), (-1.5, 1.5)) # specify the constraints for each parameter\n",
    "initial_arguments = np.array([0, 0]) # point in 2D to initialise the minimize algorithm\n",
    "optimize.minimize(f, initial_arguments, bounds=parameter_bounding_box) # just call the minimize method!\n",
    "# notuce that the argmin x = (1.5,1,5) within the bounding-box."
   ]
  },
  {
   "cell_type": "code",
   "execution_count": null,
   "id": "e651da6e",
   "metadata": {},
   "outputs": [],
   "source": []
  }
 ],
 "metadata": {
  "kernelspec": {
   "display_name": "ITDS2025",
   "language": "python",
   "name": "python3"
  },
  "language_info": {
   "codemirror_mode": {
    "name": "ipython",
    "version": 3
   },
   "file_extension": ".py",
   "mimetype": "text/x-python",
   "name": "python",
   "nbconvert_exporter": "python",
   "pygments_lexer": "ipython3",
   "version": "3.11.13"
  },
  "lx_course_instance": "2025",
  "lx_course_name": "Introduction to Data Science",
  "lx_course_number": "1MS041"
 },
 "nbformat": 4,
 "nbformat_minor": 5
}
