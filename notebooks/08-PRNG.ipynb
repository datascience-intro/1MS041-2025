{
 "cells": [
  {
   "cell_type": "markdown",
   "id": "27f5bab2",
   "metadata": {
    "deletable": false
   },
   "source": [
    "# [Introduction to Data Science](http://datascience-intro.github.io/1MS041-2025/)    \n",
    "## 1MS041, 2025 \n",
    "&copy;2025 Raazesh Sainudiin, Benny Avelin. [Attribution 4.0 International     (CC BY 4.0)](https://creativecommons.org/licenses/by/4.0/)"
   ]
  },
  {
   "cell_type": "markdown",
   "id": "88ff3a4a",
   "metadata": {},
   "source": [
    "# Linear Congruential Generators, and Pseudo-Random Numbers"
   ]
  },
  {
   "cell_type": "markdown",
   "id": "7004e7f8",
   "metadata": {},
   "source": [
    "## What's this all about?\n",
    "\n",
    "### Question: \n",
    "\n",
    "How can we produce realisations from Uniform$(0,1)$, the **fundamental random variable**?\n",
    "\n",
    "i.e., how can we produce samples $(x_1, x_2, \\ldots, x_n)$ from $X_1, X_2, \\ldots, X_n$ $\\overset{IID}{\\thicksim}$ Uniform$(0,1)$?\n",
    "\n",
    "What is python doing when we ask for `random()`?"
   ]
  },
  {
   "cell_type": "code",
   "execution_count": 1,
   "id": "4549a1fe",
   "metadata": {
    "scrolled": true
   },
   "outputs": [
    {
     "data": {
      "text/plain": [
       "0.8480827240178943"
      ]
     },
     "execution_count": 1,
     "metadata": {},
     "output_type": "execute_result"
    }
   ],
   "source": [
    "from random import random as rnd\n",
    "rnd()"
   ]
  },
  {
   "cell_type": "markdown",
   "id": "09947323",
   "metadata": {},
   "source": [
    "### Answer:\n",
    "\n",
    "Modular arithmetic and number theory gives us pseudo-random number generators.\n",
    "\n",
    " \n",
    "\n",
    "### Question:\n",
    "\n",
    "What can we do with samples from a Uniform$(0,1)$ RV?  Why bother?\n",
    "\n",
    "### Answer:\n",
    "\n",
    "We can use them to sample or simulate from other, more complex, random variables.  These simulations can be used to understand real-world phenomenon such as:\n",
    "\n",
    "- modelling traffic queues on land, air or sea for supply chain management\n",
    "- estimate missing data in a statistical survey to better manage or administer\n",
    "- helping a hospital to manage critical care for pre-term babies\n",
    "- helping [NZ's Department of Conservation](https://www.doc.govt.nz/) to minimise the extinction probability of various marine organisms\n",
    "- helping the [Swedish Agency for Marine and Water Management](https://www.havochvatten.se/en/start.html) towards [sustainable consumption of its red-listed](https://en.wikipedia.org/wiki/Eel#Sustainable_consumption) [Eel](https://en.wikipedia.org/wiki/Brantevik_Eel) populations\n",
    "- help the Government find if certain fishing boats are illegally under-reporting their catches from its nation's waters\n",
    "- find cheaper air tickets for a vacation\n",
    "- make money in the stock market\n",
    "- etc., etc.\n",
    "- various physical systems can be modeled. See http://en.wikipedia.org/wiki/Monte_Carlo_method for a bigger picture.\n",
    "\n",
    "See how the modern history of *Monte Carlo Methods* starts in Los Alamos!"
   ]
  },
  {
   "cell_type": "code",
   "execution_count": 2,
   "id": "806d3a80",
   "metadata": {
    "scrolled": true
   },
   "outputs": [
    {
     "data": {
      "text/html": [
       "\n",
       "        <iframe\n",
       "            width=\"95%\"\n",
       "            height=\"600\"\n",
       "            src=\"https://en.wikipedia.org/wiki/Monte_Carlo_method\"\n",
       "            frameborder=\"0\"\n",
       "            allowfullscreen\n",
       "            \n",
       "        ></iframe>\n",
       "        "
      ],
      "text/plain": [
       "<IPython.lib.display.IFrame at 0x10a633e90>"
      ]
     },
     "execution_count": 2,
     "metadata": {},
     "output_type": "execute_result"
    }
   ],
   "source": [
    "def showURL(url, ht=500):\n",
    "    \"\"\"Return an IFrame of the url to show in notebook with height ht\"\"\"\n",
    "    from IPython.display import IFrame\n",
    "    return IFrame(url, width='95%', height=ht)\n",
    "showURL('https://en.wikipedia.org/wiki/Monte_Carlo_method',600)"
   ]
  },
  {
   "cell_type": "markdown",
   "id": "e488fc3e",
   "metadata": {},
   "source": [
    "**Remark:** When **mathematical models become too complicated** to explain a complex phenomenon of interest (eg. traffic or supply-chain management, predictive maintenance of an expensive component in a national grid/system of power plant, etc.), you have little choice but to resort to **modular arithmetic based simulations with pseudo-random numbers**. \n",
    "\n",
    "[John von Neumann](https://en.wikipedia.org/wiki/John_von_Neumann) invented such a pseudo-random number generator called the [middle-square method](https://en.wikipedia.org/wiki/Middle-square_method#History) for solving complex problems in the [Manhattan Project](https://en.wikipedia.org/wiki/Manhattan_Project). \n",
    "\n",
    "![](https://upload.wikimedia.org/wikipedia/commons/thumb/5/5e/JohnvonNeumann-LosAlamos.gif/330px-JohnvonNeumann-LosAlamos.gif)\n",
    "![](https://upload.wikimedia.org/wikipedia/commons/thumb/8/8d/Trinity_shot_color.jpg/330px-Trinity_shot_color.jpg)\n",
    "\n",
    "Finally, statistical inference methods you are about to see can be combined with simulation to conduct **simulation-intensive statistical inference**! These are called Monte Carlo methods and the naming has an interesting folk-tale from Los Alamos."
   ]
  },
  {
   "cell_type": "markdown",
   "id": "e9991e9e",
   "metadata": {},
   "source": [
    "## Linear Congruential Generators\n",
    "\n",
    "A linear congruential generator (LCG) is a simple *pseudo-random number generator (PRNG)* - a simple way of imitating samples or realizations from the Uniform$(0,1)$.  \n",
    "\n",
    "\"Pseudo-random\" means that the numbers are not really random [From Ancient Greek pseudo means “false, lying”)].\n",
    "\n",
    "We will look at what we mean by that as we find out about linear congruential generators. \n",
    "\n",
    "The theory behind LCGs is easy to understand, and they are easily implemented and fast.\n",
    "\n",
    "To make a LCG we need:\n",
    "\n",
    "- a modulus $m$ ($m > 0$)\n",
    "- an integer multiplier $a$ ($0 \\le a < m$)\n",
    "- an integer increment $c$ ($0 \\le c < m$)\n",
    "- an integer seed $x_0$ ($0 \\le x_0 < m$)\n",
    "- an integer sequence length $n$\n",
    "\n",
    "Using these inputs, the LCG generates numbers $x_1, x_2, \\ldots x_{n-1} $ where $x_{i+1}$ is calculated from $x_i$ as defined by the following recurrence relation:\n",
    "\n",
    "$$x_{i+1} \\gets mod \\left(a x_i + c , m \\right)$$\n",
    "\n",
    "In the above expression $\\gets$ denotes \"gets\" as in variable assignment.\n",
    "\n",
    "$x_0,x_1,\\ldots,x_{n-1}$ is the sequence of pseudo-random numbers called the linear congruential sequence.\n",
    "\n",
    "\n",
    "\n",
    "We can define a function parameterised by $(m,a,c,x_0,n)$ to give us a linear congruential sequence in the form of a list. \n",
    "\n",
    "(Remember about function parameters?  The function **parameters** here are `m`, `a`, `c`, `x0`, and `n`.  Note that the **return value** of the function is a list.  "
   ]
  },
  {
   "cell_type": "markdown",
   "id": "c48f4587",
   "metadata": {},
   "source": [
    "### Implementing the LCG\n",
    "\n",
    "Let's see how we can define a function for our LCG next.'"
   ]
  },
  {
   "cell_type": "code",
   "execution_count": 3,
   "id": "740209d2",
   "metadata": {
    "scrolled": true
   },
   "outputs": [],
   "source": [
    "def linConGen(m, a, b, x0, n):\n",
    "    '''A linear congruential sequence generator.\n",
    "    \n",
    "    Param m is the integer modulus to use in the generator.\n",
    "    Param a is the integer multiplier.\n",
    "    Param b is the integer increment.\n",
    "    Param x0 is the integer seed.\n",
    "    Param n is the integer number of desired pseudo-random numbers.\n",
    "    \n",
    "    Returns a list of n pseudo-random integer modulo m numbers.'''\n",
    "    \n",
    "    x = x0 # the seed\n",
    "    retValue = [x % m]  # start the list with x=x0\n",
    "    for i in range(2, n+1, 1):\n",
    "        x = (a * x + b) % m # the generator, using modular arithmetic\n",
    "        retValue.append(x) # append the new x to the list\n",
    "    return retValue"
   ]
  },
  {
   "cell_type": "code",
   "execution_count": 4,
   "id": "6cbf416a",
   "metadata": {},
   "outputs": [
    {
     "data": {
      "text/plain": [
       "[1, 4, 7, 0, 3]"
      ]
     },
     "execution_count": 4,
     "metadata": {},
     "output_type": "execute_result"
    }
   ],
   "source": [
    "linConGen(10,1,3,1,5)"
   ]
  },
  {
   "cell_type": "markdown",
   "id": "76be9260",
   "metadata": {},
   "source": [
    "You know enough Python to understand what every line in the above function `linConGen` is doing!"
   ]
  },
  {
   "cell_type": "markdown",
   "id": "db8db28e",
   "metadata": {},
   "source": [
    "The function is merely implementing the pseudocode or algorithm of the linear congruential generator using a for-loop and modular arithmetic:  note that the generator produces integers modulo $m$.\n",
    "\n",
    "### Linear Congruential Generators:  the Good, the Bad, and the Ugly\n",
    "\n",
    "Are all linear congruential generators as good as each other?  What makes a good LCG?\n",
    "\n",
    "One desirable property of a LCG is to have the longest possible period.   \n",
    "\n",
    "The **period** is the length of sequence we can get before we get a repeat.  The longest possible period a LCG can have is $m$.  Lets look at an example.  "
   ]
  },
  {
   "cell_type": "code",
   "execution_count": 5,
   "id": "2799f3a4",
   "metadata": {
    "scrolled": true
   },
   "outputs": [
    {
     "data": {
      "text/plain": [
       "[1, 9, 8, 6, 2, 11, 12, 14, 1, 9, 8, 6, 2, 11, 12, 14, 1, 9]"
      ]
     },
     "execution_count": 5,
     "metadata": {},
     "output_type": "execute_result"
    }
   ],
   "source": [
    "# first assign values to some variables to pass as arguments to the function\n",
    "m  = 17  # set modulus to 17\n",
    "a  = 2   # set multiplier to 2\n",
    "b  = 7   # set increment to 7\n",
    "x0 = 1   # set seed to 1\n",
    "n  = 18  # set length of sequence to 18 = 1 + maximal period \n",
    "L1 = linConGen(m, a, b, x0, n) # use our linConGren function to make the sequence\n",
    "L1                    # this sequence repeats itself with period 8"
   ]
  },
  {
   "cell_type": "markdown",
   "id": "b83f69e7",
   "metadata": {},
   "source": [
    "You should be able to see the repeating pattern `1, 9, 8, 6, 2, 11, 12, 14`.  If you can't you can see that the sequence actually contains 8 unique numbers by making a set out of it:"
   ]
  },
  {
   "cell_type": "code",
   "execution_count": 6,
   "id": "1f27568c",
   "metadata": {
    "scrolled": true
   },
   "outputs": [
    {
     "data": {
      "text/plain": [
       "{1, 2, 6, 8, 9, 11, 12, 14}"
      ]
     },
     "execution_count": 6,
     "metadata": {},
     "output_type": "execute_result"
    }
   ],
   "source": [
    "set(L1)"
   ]
  },
  {
   "cell_type": "markdown",
   "id": "210419dd",
   "metadata": {},
   "source": [
    "Changing the seed $x_0$ will, at best, make the sequence repeat itself over other numbers but with the same period:"
   ]
  },
  {
   "cell_type": "code",
   "execution_count": 7,
   "id": "eebda1ba",
   "metadata": {
    "scrolled": true
   },
   "outputs": [
    {
     "data": {
      "text/plain": [
       "[3, 13, 16, 5, 0, 7, 4, 15, 3, 13, 16, 5, 0, 7, 4, 15, 3, 13]"
      ]
     },
     "execution_count": 7,
     "metadata": {},
     "output_type": "execute_result"
    }
   ],
   "source": [
    "x0 = 3             # leave m, a, b as it is but just change the seed from 1 to 3 here\n",
    "L2 = linConGen(m, a, b, x0, n)\n",
    "L2                 # changing the seed makes this sequence repeat itself over other numbers but also with period 8"
   ]
  },
  {
   "cell_type": "code",
   "execution_count": 8,
   "id": "4aeea815",
   "metadata": {
    "scrolled": true
   },
   "outputs": [
    {
     "data": {
      "text/plain": [
       "{0, 3, 4, 5, 7, 13, 15, 16}"
      ]
     },
     "execution_count": 8,
     "metadata": {},
     "output_type": "execute_result"
    }
   ],
   "source": [
    "set(L2)"
   ]
  },
  {
   "cell_type": "markdown",
   "id": "8a4c9282",
   "metadata": {},
   "source": [
    "At worst, a different `seed` specified by `x0` might make the sequence get stuck immediately:"
   ]
  },
  {
   "cell_type": "code",
   "execution_count": 9,
   "id": "d5d7c363",
   "metadata": {
    "scrolled": true
   },
   "outputs": [
    {
     "data": {
      "text/plain": [
       "[10, 10, 10, 10, 10, 10, 10, 10, 10, 10, 10, 10, 10, 10, 10, 10, 10, 10]"
      ]
     },
     "execution_count": 9,
     "metadata": {},
     "output_type": "execute_result"
    }
   ],
   "source": [
    "x0 = 10            # leave m, a, c as it is but just change the seed to 10\n",
    "L3 = linConGen(m, a, b, x0, n)\n",
    "L3"
   ]
  },
  {
   "cell_type": "code",
   "execution_count": 10,
   "id": "92c789d0",
   "metadata": {
    "scrolled": true
   },
   "outputs": [
    {
     "data": {
      "text/plain": [
       "{10}"
      ]
     },
     "execution_count": 10,
     "metadata": {},
     "output_type": "execute_result"
    }
   ],
   "source": [
    "set(L3)"
   ]
  },
  {
   "cell_type": "markdown",
   "id": "69ce0758",
   "metadata": {},
   "source": [
    "An LCG is just a discrete determinstic dynamical system and each seed acts as the initial condition with different behaviours. The behaviour above can be seen as a *fixed point* at 10 for this LCG initialized at 10."
   ]
  },
  {
   "cell_type": "code",
   "execution_count": 11,
   "id": "76f9c14b",
   "metadata": {
    "scrolled": true
   },
   "outputs": [
    {
     "data": {
      "text/plain": [
       "{0, 1, 2, 3, 4, 5, 6, 7, 8, 9, 10, 11, 12, 13, 14, 15, 16}"
      ]
     },
     "execution_count": 11,
     "metadata": {},
     "output_type": "execute_result"
    }
   ],
   "source": [
    "set(L3).union(set(L2)).union(set(L1))"
   ]
  },
  {
   "cell_type": "markdown",
   "id": "d490d150",
   "metadata": {},
   "source": [
    "Thus, the three sequences with different initial conditions or seeds cover all the points in our **Ring of integers modulo 17**."
   ]
  },
  {
   "cell_type": "markdown",
   "id": "3d873135",
   "metadata": {},
   "source": [
    "What about changing the multiplier $a$?"
   ]
  },
  {
   "cell_type": "code",
   "execution_count": 12,
   "id": "c1fe6db1",
   "metadata": {
    "scrolled": true
   },
   "outputs": [
    {
     "data": {
      "text/plain": [
       "[1, 10, 3, 16, 4, 2, 13, 12, 9, 0, 7, 11, 6, 8, 14, 15, 1, 10]"
      ]
     },
     "execution_count": 12,
     "metadata": {},
     "output_type": "execute_result"
    }
   ],
   "source": [
    "m  = 17 # same as before\n",
    "a  = 3  # change the multiplier from 2 to 3 here\n",
    "b  = 7  # same as before\n",
    "x0 = 1  # set seed at 1 \n",
    "n  = 18 # set length of sequence to 18 = 1 + maximal period\n",
    "L4 = linConGen(m, a, b, x0, n)\n",
    "L4"
   ]
  },
  {
   "cell_type": "code",
   "execution_count": 13,
   "id": "11a9b0cd",
   "metadata": {
    "scrolled": true
   },
   "outputs": [
    {
     "data": {
      "text/plain": [
       "{0, 1, 2, 3, 4, 6, 7, 8, 9, 10, 11, 12, 13, 14, 15, 16}"
      ]
     },
     "execution_count": 13,
     "metadata": {},
     "output_type": "execute_result"
    }
   ],
   "source": [
    "set(L4)"
   ]
  },
  {
   "cell_type": "code",
   "execution_count": 14,
   "id": "324e6f47",
   "metadata": {
    "scrolled": true
   },
   "outputs": [
    {
     "data": {
      "text/plain": [
       "[5, 5, 5, 5, 5, 5, 5, 5, 5, 5, 5, 5, 5, 5, 5, 5, 5, 5]"
      ]
     },
     "execution_count": 14,
     "metadata": {},
     "output_type": "execute_result"
    }
   ],
   "source": [
    "x0 = 5  # just change the seed to 5\n",
    "linConGen(m, a, b, x0, n)"
   ]
  },
  {
   "cell_type": "markdown",
   "id": "30f3793a",
   "metadata": {},
   "source": [
    "We want an LCG with a **full period** of $m$ so that we can use it with any seed and not get stuck at fixed points or short periodic sequences. This is a minimal requirement for simulation purposes that we will employ such sequences for.  Is there anyway to know what makes a LCG with a full period?  \n",
    "\n",
    "It turns out that an LCG will have a full period if and only if:\n",
    "\n",
    "- $b$ and $m$ are relatively prime or coprime.  i.e. the **greatest common divisor (gcd)** of $b$ and $m$ is $1$; and\n",
    "- $a-1$ is divisible by all **prime factors** of $m$; and\n",
    "- $a-1$ is a multiple of 4 if $m$ is a multiple of 4.\n",
    "\n",
    "(Different conditions apply when $c=0$.  The Proposition and Proof for this are in Knuth, The Art of Computer Programming, vol. 2, section 3.3).\n",
    "\n",
    "Python has a function `gcd` which can calculate the greatest common divisor of two numbers:"
   ]
  },
  {
   "cell_type": "code",
   "execution_count": 15,
   "id": "cd7c88c0",
   "metadata": {},
   "outputs": [],
   "source": [
    "m = 2**8"
   ]
  },
  {
   "cell_type": "code",
   "execution_count": 16,
   "id": "1d594281",
   "metadata": {},
   "outputs": [
    {
     "data": {
      "text/plain": [
       "1"
      ]
     },
     "execution_count": 16,
     "metadata": {},
     "output_type": "execute_result"
    }
   ],
   "source": [
    "from math import gcd\n",
    "b = 101\n",
    "gcd(101,m)"
   ]
  },
  {
   "cell_type": "code",
   "execution_count": 17,
   "id": "81855125",
   "metadata": {},
   "outputs": [
    {
     "data": {
      "text/plain": [
       "[2]"
      ]
     },
     "execution_count": 17,
     "metadata": {},
     "output_type": "execute_result"
    }
   ],
   "source": [
    "from sympy.ntheory import primefactors as prime_factors\n",
    "prime_factors(m)"
   ]
  },
  {
   "cell_type": "code",
   "execution_count": 18,
   "id": "e695f333",
   "metadata": {
    "scrolled": true
   },
   "outputs": [],
   "source": [
    "k=5\n",
    "a = k*4+1"
   ]
  },
  {
   "cell_type": "code",
   "execution_count": 19,
   "id": "c1e03500",
   "metadata": {},
   "outputs": [
    {
     "data": {
      "text/plain": [
       "[2, 5]"
      ]
     },
     "execution_count": 19,
     "metadata": {},
     "output_type": "execute_result"
    }
   ],
   "source": [
    "prime_factors(a-1)"
   ]
  },
  {
   "cell_type": "code",
   "execution_count": 20,
   "id": "1726adf5",
   "metadata": {
    "scrolled": true
   },
   "outputs": [
    {
     "data": {
      "text/plain": [
       "0"
      ]
     },
     "execution_count": 20,
     "metadata": {},
     "output_type": "execute_result"
    }
   ],
   "source": [
    "(a-1) % 4"
   ]
  },
  {
   "cell_type": "code",
   "execution_count": 21,
   "id": "f533a0e7",
   "metadata": {},
   "outputs": [
    {
     "data": {
      "text/plain": [
       "256"
      ]
     },
     "execution_count": 21,
     "metadata": {},
     "output_type": "execute_result"
    }
   ],
   "source": [
    "ourLCG = linConGen(m,a,b,1,256+1)\n",
    "len(set(ourLCG))"
   ]
  },
  {
   "cell_type": "markdown",
   "id": "2e7aa0b2",
   "metadata": {},
   "source": [
    "Python can also help us to calculate **prime factors** with the `prime_factors` function:"
   ]
  },
  {
   "cell_type": "code",
   "execution_count": 22,
   "id": "a6197c6e",
   "metadata": {},
   "outputs": [],
   "source": [
    "from sympy.ntheory import primefactors as prime_factors"
   ]
  },
  {
   "cell_type": "code",
   "execution_count": 23,
   "id": "aac10244",
   "metadata": {
    "scrolled": true
   },
   "outputs": [
    {
     "data": {
      "text/plain": [
       "[2]"
      ]
     },
     "execution_count": 23,
     "metadata": {},
     "output_type": "execute_result"
    }
   ],
   "source": [
    "prime_factors(m)"
   ]
  },
  {
   "cell_type": "code",
   "execution_count": 24,
   "id": "016ef908",
   "metadata": {
    "scrolled": true
   },
   "outputs": [
    {
     "data": {
      "text/plain": [
       "[2, 25504980841, 149674443424853]"
      ]
     },
     "execution_count": 24,
     "metadata": {},
     "output_type": "execute_result"
    }
   ],
   "source": [
    "prime_factors(7634887623876428376482746)"
   ]
  },
  {
   "cell_type": "markdown",
   "id": "422e338c",
   "metadata": {},
   "source": [
    "$(m, a, c, x0, n) = (256, 137, 123, 13, 256)$ gives a linear congruential sequence with the longest possible period of 256.  Let us see how these parameters satisfy the above three requirements while those earlier with $m=17$, $a=2$, and $c=7$ do not."
   ]
  },
  {
   "cell_type": "code",
   "execution_count": 25,
   "id": "01731674",
   "metadata": {
    "scrolled": true
   },
   "outputs": [],
   "source": [
    "(m,a,c,x0,n)=(256, 137, 123, 13, 256) # faster way to assign a bunch of parameters"
   ]
  },
  {
   "cell_type": "code",
   "execution_count": 26,
   "id": "f6b45f46",
   "metadata": {
    "scrolled": true
   },
   "outputs": [
    {
     "data": {
      "text/plain": [
       "1"
      ]
     },
     "execution_count": 26,
     "metadata": {},
     "output_type": "execute_result"
    }
   ],
   "source": [
    "gcd(c,m)         # checking if the greatest common divisor of c and m is indeed 1"
   ]
  },
  {
   "cell_type": "code",
   "execution_count": 27,
   "id": "c37f646e",
   "metadata": {
    "scrolled": true
   },
   "outputs": [
    {
     "data": {
      "text/plain": [
       "[2]"
      ]
     },
     "execution_count": 27,
     "metadata": {},
     "output_type": "execute_result"
    }
   ],
   "source": [
    "prime_factors(m)   # it is easy to get a list of all the prime factors of m"
   ]
  },
  {
   "cell_type": "code",
   "execution_count": 28,
   "id": "6fbd577f",
   "metadata": {
    "scrolled": true
   },
   "outputs": [
    {
     "data": {
      "text/plain": [
       "0"
      ]
     },
     "execution_count": 28,
     "metadata": {},
     "output_type": "execute_result"
    }
   ],
   "source": [
    "(a-1) % 2             # checking if a-1=136 is divisible by 2, the only prime factors of m"
   ]
  },
  {
   "cell_type": "code",
   "execution_count": 29,
   "id": "24c42d5a",
   "metadata": {
    "scrolled": true
   },
   "outputs": [
    {
     "data": {
      "text/plain": [
       "[0]"
      ]
     },
     "execution_count": 29,
     "metadata": {},
     "output_type": "execute_result"
    }
   ],
   "source": [
    "[ (a-1)%x for x in prime_factors(m) ]  \n",
    "# a list comprehension check for an m with more prime factors"
   ]
  },
  {
   "cell_type": "code",
   "execution_count": 30,
   "id": "761c0f65",
   "metadata": {
    "scrolled": true
   },
   "outputs": [
    {
     "data": {
      "text/plain": [
       "0"
      ]
     },
     "execution_count": 30,
     "metadata": {},
     "output_type": "execute_result"
    }
   ],
   "source": [
    "m % 4         # m is a multiple of 4 check"
   ]
  },
  {
   "cell_type": "code",
   "execution_count": 31,
   "id": "13a08995",
   "metadata": {
    "scrolled": true
   },
   "outputs": [
    {
     "data": {
      "text/plain": [
       "0"
      ]
     },
     "execution_count": 31,
     "metadata": {},
     "output_type": "execute_result"
    }
   ],
   "source": [
    "(a-1) % 4       # if m is a multiple of 4 then a-1 is also a multiple of 4"
   ]
  },
  {
   "cell_type": "code",
   "execution_count": 32,
   "id": "518c495c",
   "metadata": {
    "scrolled": true
   },
   "outputs": [
    {
     "data": {
      "text/plain": [
       "(256, 137, 123, 13, 256)"
      ]
     },
     "execution_count": 32,
     "metadata": {},
     "output_type": "execute_result"
    }
   ],
   "source": [
    "(m, a, c, x0, n)  # therefore these parameter values satisfy all conditions to have maximum period length m"
   ]
  },
  {
   "cell_type": "markdown",
   "id": "9591955a",
   "metadata": {},
   "source": [
    "Thus, the parameters $(m,  a,  c,  x_0,  n) = (256, 137, 123, 13, 256)$  do indeed satisfy the three conditions to guarantee the longest possible period of 256.  \n",
    "\n",
    "In contrast, for the LCG example earlier with $m=17$, $a=2$, and $c=7$, although $m$ and $c$ are relatively prime, i.e., $gcd(m,c)=1$, we have the violation that $a-1=2-1=1$ is not divisible by the only prime factor $17$ of $m=17$.  Thus, we cannot get a period of maximal length $17$ in that example."
   ]
  },
  {
   "cell_type": "code",
   "execution_count": 33,
   "id": "2877a70c",
   "metadata": {
    "scrolled": true
   },
   "outputs": [
    {
     "data": {
      "text/plain": [
       "[1]"
      ]
     },
     "execution_count": 33,
     "metadata": {},
     "output_type": "execute_result"
    }
   ],
   "source": [
    "[ (2-1)%x for x in prime_factors(17) ]"
   ]
  },
  {
   "cell_type": "markdown",
   "id": "a0107e26",
   "metadata": {},
   "source": [
    "Let us see if the parameters $(m, a, c, x_0, n) = (256, 137, 123, 13, 256)$  that satisfy the three conditions to guarantee the longest possible period of 256 do indeed produce such a sequence:"
   ]
  },
  {
   "cell_type": "code",
   "execution_count": 34,
   "id": "dd57b783",
   "metadata": {
    "scrolled": true
   },
   "outputs": [
    {
     "name": "stdout",
     "output_type": "stream",
     "text": [
      "[13, 112, 107, 190, 41, 108, 71, 122, 197, 232, 163, 182, 225, 228, 127, 114, 125, 96, 219, 174, 153, 92, 183, 106, 53, 216, 19, 166, 81, 212, 239, 98, 237, 80, 75, 158, 9, 76, 39, 90, 165, 200, 131, 150, 193, 196, 95, 82, 93, 64, 187, 142, 121, 60, 151, 74, 21, 184, 243, 134, 49, 180, 207, 66, 205, 48, 43, 126, 233, 44, 7, 58, 133, 168, 99, 118, 161, 164, 63, 50, 61, 32, 155, 110, 89, 28, 119, 42, 245, 152, 211, 102, 17, 148, 175, 34, 173, 16, 11, 94, 201, 12, 231, 26, 101, 136, 67, 86, 129, 132, 31, 18, 29, 0, 123, 78, 57, 252, 87, 10, 213, 120, 179, 70, 241, 116, 143, 2, 141, 240, 235, 62, 169, 236, 199, 250, 69, 104, 35, 54, 97, 100, 255, 242, 253, 224, 91, 46, 25, 220, 55, 234, 181, 88, 147, 38, 209, 84, 111, 226, 109, 208, 203, 30, 137, 204, 167, 218, 37, 72, 3, 22, 65, 68, 223, 210, 221, 192, 59, 14, 249, 188, 23, 202, 149, 56, 115, 6, 177, 52, 79, 194, 77, 176, 171, 254, 105, 172, 135, 186, 5, 40, 227, 246, 33, 36, 191, 178, 189, 160, 27, 238, 217, 156, 247, 170, 117, 24, 83, 230, 145, 20, 47, 162, 45, 144, 139, 222, 73, 140, 103, 154, 229, 8, 195, 214, 1, 4, 159, 146, 157, 128, 251, 206, 185, 124, 215, 138, 85, 248, 51, 198, 113, 244, 15, 130]\n"
     ]
    }
   ],
   "source": [
    "(m,a,b,x0,n)=(256, 137, 123, 13, 256) # faster way to assign a bunch of parameters\n",
    "ourLcg = linConGen(m,a,b,x0,n)\n",
    "print(ourLcg)"
   ]
  },
  {
   "cell_type": "code",
   "execution_count": 35,
   "id": "77dd8f8a",
   "metadata": {
    "scrolled": true
   },
   "outputs": [
    {
     "name": "stdout",
     "output_type": "stream",
     "text": [
      "256\n"
     ]
    }
   ],
   "source": [
    "S = set(ourLcg)  # sort it in a set to see if it indeed has maximal period of 256\n",
    "print(len(S))"
   ]
  },
  {
   "cell_type": "code",
   "execution_count": 36,
   "id": "955d067a",
   "metadata": {},
   "outputs": [
    {
     "data": {
      "image/png": "[encoded data removed]",
      "text/plain": [
       "<Figure size 640x480 with 1 Axes>"
      ]
     },
     "metadata": {},
     "output_type": "display_data"
    }
   ],
   "source": [
    "sample = linConGen(m,a,b,x0,256*10)\n",
    "from Utils import makeEDF\n",
    "from Utils import plotEDF\n",
    "plotEDF(makeEDF(sample))"
   ]
  },
  {
   "cell_type": "markdown",
   "id": "83b55362",
   "metadata": {},
   "source": [
    "This looks pretty good, it seems to verify that it is indeed a pseudorandom sequence. Lets try to take this modulo $K$, where $M$ is divisible by $K$. For us, $M = 256$ so we can take for instance $K = 8$. Lets see what happens"
   ]
  },
  {
   "cell_type": "code",
   "execution_count": 37,
   "id": "c2d04dc4",
   "metadata": {},
   "outputs": [],
   "source": [
    "from math import floor"
   ]
  },
  {
   "cell_type": "code",
   "execution_count": 38,
   "id": "8fdb4519",
   "metadata": {},
   "outputs": [
    {
     "data": {
      "image/png": "[encoded data removed]",
      "text/plain": [
       "<Figure size 640x480 with 1 Axes>"
      ]
     },
     "metadata": {},
     "output_type": "display_data"
    }
   ],
   "source": [
    "sample_8 = [floor((s / (256))*8) for s in sample]\n",
    "from Utils import plotEMF, makeEMF\n",
    "plotEMF(makeEMF(sample_8))"
   ]
  },
  {
   "cell_type": "markdown",
   "id": "bcd13c24",
   "metadata": {},
   "source": [
    "It still retains the pseudo-randomness, but what is the period of the sequence `sample_8`?"
   ]
  },
  {
   "cell_type": "code",
   "execution_count": 39,
   "id": "5e5bdc5a",
   "metadata": {},
   "outputs": [
    {
     "name": "stdout",
     "output_type": "stream",
     "text": [
      "256\n"
     ]
    }
   ],
   "source": [
    "for period in range(2,300):\n",
    "    found = True\n",
    "    for i in range(period):\n",
    "        if (sample_8[i] != sample_8[i+period]):\n",
    "            found = False\n",
    "            break\n",
    "    if found == True:\n",
    "        print(period)\n",
    "        break"
   ]
  },
  {
   "cell_type": "code",
   "execution_count": 40,
   "id": "bc99251e",
   "metadata": {},
   "outputs": [
    {
     "name": "stdout",
     "output_type": "stream",
     "text": [
      "[0, 3, 3, 5, 1, 3, 2, 3, 6, 7, 5, 5, 7, 7, 3, 3, 3, 3, 6, 5, 4, 2, 5, 3, 1, 6, 0, 5, 2, 6, 7, 3, 7, 2, 2, 4, 0, 2, 1, 2, 5, 6, 4, 4, 6, 6, 2, 2, 2, 2, 5, 4, 3, 1, 4, 2, 0, 5, 7, 4, 1, 5, 6, 2, 6, 1, 1, 3, 7, 1, 0, 1, 4, 5, 3, 3, 5, 5, 1, 1, 1, 1, 4, 3, 2, 0, 3, 1, 7, 4, 6, 3, 0, 4, 5, 1, 5, 0, 0, 2, 6, 0, 7, 0, 3, 4, 2, 2, 4, 4, 0, 0, 0, 0, 3, 2, 1, 7, 2, 0, 6, 3, 5, 2, 7, 3, 4, 0, 4, 7, 7, 1, 5, 7, 6, 7, 2, 3, 1, 1, 3, 3, 7, 7, 7, 7, 2, 1, 0, 6, 1, 7, 5, 2, 4, 1, 6, 2, 3, 7, 3, 6, 6, 0, 4, 6, 5, 6, 1, 2, 0, 0, 2, 2, 6, 6, 6, 6, 1, 0, 7, 5, 0, 6, 4, 1, 3, 0, 5, 1, 2, 6, 2, 5, 5, 7, 3, 5, 4, 5, 0, 1, 7, 7, 1, 1, 5, 5, 5, 5, 0, 7, 6, 4, 7, 5, 3, 0, 2, 7, 4, 0, 1, 5, 1, 4, 4, 6, 2, 4, 3, 4, 7, 0, 6, 6, 0, 0, 4, 4, 4, 4, 7, 6, 5, 3, 6, 4, 2, 7, 1, 6, 3, 7, 0, 4, 0, 3, 3, 5, 1, 3, 2, 3, 6, 7, 5, 5, 7, 7, 3, 3, 3, 3, 6, 5, 4, 2, 5, 3, 1, 6, 0, 5, 2, 6, 7, 3, 7, 2, 2, 4, 0, 2, 1, 2, 5, 6, 4, 4, 6, 6, 2, 2, 2, 2, 5, 4, 3, 1, 4, 2, 0, 5, 7, 4, 1, 5, 6, 2, 6, 1, 1, 3, 7, 1, 0, 1, 4, 5, 3, 3, 5, 5, 1, 1, 1, 1, 4, 3, 2, 0, 3, 1, 7, 4, 6, 3, 0, 4, 5, 1, 5, 0, 0, 2, 6, 0, 7, 0, 3, 4, 2, 2, 4, 4, 0, 0, 0, 0, 3, 2, 1, 7, 2, 0, 6, 3, 5, 2, 7, 3, 4, 0, 4, 7, 7, 1, 5, 7, 6, 7, 2, 3, 1, 1, 3, 3, 7, 7, 7, 7, 2, 1, 0, 6, 1, 7, 5, 2, 4, 1, 6, 2, 3, 7, 3, 6, 6, 0, 4, 6, 5, 6, 1, 2, 0, 0, 2, 2, 6, 6, 6, 6, 1, 0, 7, 5, 0, 6, 4, 1, 3, 0, 5, 1, 2, 6, 2, 5, 5, 7, 3, 5, 4, 5, 0, 1, 7, 7, 1, 1, 5, 5, 5, 5, 0, 7, 6, 4, 7, 5, 3, 0, 2, 7, 4, 0, 1, 5, 1, 4, 4, 6, 2, 4, 3, 4, 7, 0, 6, 6, 0, 0, 4, 4, 4, 4, 7, 6, 5, 3, 6, 4, 2, 7, 1, 6, 3, 7, 0, 4, 0, 3, 3, 5, 1, 3, 2, 3, 6, 7, 5, 5, 7, 7, 3, 3, 3, 3, 6, 5, 4, 2, 5, 3, 1, 6, 0, 5, 2, 6, 7, 3, 7, 2, 2, 4, 0, 2, 1, 2, 5, 6, 4, 4, 6, 6, 2, 2, 2, 2, 5, 4, 3, 1, 4, 2, 0, 5, 7, 4, 1, 5, 6, 2, 6, 1, 1, 3, 7, 1, 0, 1, 4, 5, 3, 3, 5, 5, 1, 1, 1, 1, 4, 3, 2, 0, 3, 1, 7, 4, 6, 3, 0, 4, 5, 1, 5, 0, 0, 2, 6, 0, 7, 0, 3, 4, 2, 2, 4, 4, 0, 0, 0, 0, 3, 2, 1, 7, 2, 0, 6, 3, 5, 2, 7, 3, 4, 0, 4, 7, 7, 1, 5, 7, 6, 7, 2, 3, 1, 1, 3, 3, 7, 7, 7, 7, 2, 1, 0, 6, 1, 7, 5, 2, 4, 1, 6, 2, 3, 7, 3, 6, 6, 0, 4, 6, 5, 6, 1, 2, 0, 0, 2, 2, 6, 6, 6, 6, 1, 0, 7, 5, 0, 6, 4, 1, 3, 0, 5, 1, 2, 6, 2, 5, 5, 7, 3, 5, 4, 5, 0, 1, 7, 7, 1, 1, 5, 5, 5, 5, 0, 7, 6, 4, 7, 5, 3, 0, 2, 7, 4, 0, 1, 5, 1, 4, 4, 6, 2, 4, 3, 4, 7, 0, 6, 6, 0, 0, 4, 4, 4, 4, 7, 6, 5, 3, 6, 4, 2, 7, 1, 6, 3, 7, 0, 4, 0, 3, 3, 5, 1, 3, 2, 3, 6, 7, 5, 5, 7, 7, 3, 3, 3, 3, 6, 5, 4, 2, 5, 3, 1, 6, 0, 5, 2, 6, 7, 3, 7, 2, 2, 4, 0, 2, 1, 2, 5, 6, 4, 4, 6, 6, 2, 2, 2, 2, 5, 4, 3, 1, 4, 2, 0, 5, 7, 4, 1, 5, 6, 2, 6, 1, 1, 3, 7, 1, 0, 1, 4, 5, 3, 3, 5, 5, 1, 1, 1, 1, 4, 3, 2, 0, 3, 1, 7, 4, 6, 3, 0, 4, 5, 1, 5, 0, 0, 2, 6, 0, 7, 0, 3, 4, 2, 2, 4, 4, 0, 0, 0, 0, 3, 2, 1, 7, 2, 0, 6, 3, 5, 2, 7, 3, 4, 0, 4, 7, 7, 1, 5, 7, 6, 7, 2, 3, 1, 1, 3, 3, 7, 7, 7, 7, 2, 1, 0, 6, 1, 7, 5, 2, 4, 1, 6, 2, 3, 7, 3, 6, 6, 0, 4, 6, 5, 6, 1, 2, 0, 0, 2, 2, 6, 6, 6, 6, 1, 0, 7, 5, 0, 6, 4, 1, 3, 0, 5, 1, 2, 6, 2, 5, 5, 7, 3, 5, 4, 5, 0, 1, 7, 7, 1, 1, 5, 5, 5, 5, 0, 7, 6, 4, 7, 5, 3, 0, 2, 7, 4, 0, 1, 5, 1, 4, 4, 6, 2, 4, 3, 4, 7, 0, 6, 6, 0, 0, 4, 4, 4, 4, 7, 6, 5, 3, 6, 4, 2, 7, 1, 6, 3, 7, 0, 4, 0, 3, 3, 5, 1, 3, 2, 3, 6, 7, 5, 5, 7, 7, 3, 3, 3, 3, 6, 5, 4, 2, 5, 3, 1, 6, 0, 5, 2, 6, 7, 3, 7, 2, 2, 4, 0, 2, 1, 2, 5, 6, 4, 4, 6, 6, 2, 2, 2, 2, 5, 4, 3, 1, 4, 2, 0, 5, 7, 4, 1, 5, 6, 2, 6, 1, 1, 3, 7, 1, 0, 1, 4, 5, 3, 3, 5, 5, 1, 1, 1, 1, 4, 3, 2, 0, 3, 1, 7, 4, 6, 3, 0, 4, 5, 1, 5, 0, 0, 2, 6, 0, 7, 0, 3, 4, 2, 2, 4, 4, 0, 0, 0, 0, 3, 2, 1, 7, 2, 0, 6, 3, 5, 2, 7, 3, 4, 0, 4, 7, 7, 1, 5, 7, 6, 7, 2, 3, 1, 1, 3, 3, 7, 7, 7, 7, 2, 1, 0, 6, 1, 7, 5, 2, 4, 1, 6, 2, 3, 7, 3, 6, 6, 0, 4, 6, 5, 6, 1, 2, 0, 0, 2, 2, 6, 6, 6, 6, 1, 0, 7, 5, 0, 6, 4, 1, 3, 0, 5, 1, 2, 6, 2, 5, 5, 7, 3, 5, 4, 5, 0, 1, 7, 7, 1, 1, 5, 5, 5, 5, 0, 7, 6, 4, 7, 5, 3, 0, 2, 7, 4, 0, 1, 5, 1, 4, 4, 6, 2, 4, 3, 4, 7, 0, 6, 6, 0, 0, 4, 4, 4, 4, 7, 6, 5, 3, 6, 4, 2, 7, 1, 6, 3, 7, 0, 4, 0, 3, 3, 5, 1, 3, 2, 3, 6, 7, 5, 5, 7, 7, 3, 3, 3, 3, 6, 5, 4, 2, 5, 3, 1, 6, 0, 5, 2, 6, 7, 3, 7, 2, 2, 4, 0, 2, 1, 2, 5, 6, 4, 4, 6, 6, 2, 2, 2, 2, 5, 4, 3, 1, 4, 2, 0, 5, 7, 4, 1, 5, 6, 2, 6, 1, 1, 3, 7, 1, 0, 1, 4, 5, 3, 3, 5, 5, 1, 1, 1, 1, 4, 3, 2, 0, 3, 1, 7, 4, 6, 3, 0, 4, 5, 1, 5, 0, 0, 2, 6, 0, 7, 0, 3, 4, 2, 2, 4, 4, 0, 0, 0, 0, 3, 2, 1, 7, 2, 0, 6, 3, 5, 2, 7, 3, 4, 0, 4, 7, 7, 1, 5, 7, 6, 7, 2, 3, 1, 1, 3, 3, 7, 7, 7, 7, 2, 1, 0, 6, 1, 7, 5, 2, 4, 1, 6, 2, 3, 7, 3, 6, 6, 0, 4, 6, 5, 6, 1, 2, 0, 0, 2, 2, 6, 6, 6, 6, 1, 0, 7, 5, 0, 6, 4, 1, 3, 0, 5, 1, 2, 6, 2, 5, 5, 7, 3, 5, 4, 5, 0, 1, 7, 7, 1, 1, 5, 5, 5, 5, 0, 7, 6, 4, 7, 5, 3, 0, 2, 7, 4, 0, 1, 5, 1, 4, 4, 6, 2, 4, 3, 4, 7, 0, 6, 6, 0, 0, 4, 4, 4, 4, 7, 6, 5, 3, 6, 4, 2, 7, 1, 6, 3, 7, 0, 4, 0, 3, 3, 5, 1, 3, 2, 3, 6, 7, 5, 5, 7, 7, 3, 3, 3, 3, 6, 5, 4, 2, 5, 3, 1, 6, 0, 5, 2, 6, 7, 3, 7, 2, 2, 4, 0, 2, 1, 2, 5, 6, 4, 4, 6, 6, 2, 2, 2, 2, 5, 4, 3, 1, 4, 2, 0, 5, 7, 4, 1, 5, 6, 2, 6, 1, 1, 3, 7, 1, 0, 1, 4, 5, 3, 3, 5, 5, 1, 1, 1, 1, 4, 3, 2, 0, 3, 1, 7, 4, 6, 3, 0, 4, 5, 1, 5, 0, 0, 2, 6, 0, 7, 0, 3, 4, 2, 2, 4, 4, 0, 0, 0, 0, 3, 2, 1, 7, 2, 0, 6, 3, 5, 2, 7, 3, 4, 0, 4, 7, 7, 1, 5, 7, 6, 7, 2, 3, 1, 1, 3, 3, 7, 7, 7, 7, 2, 1, 0, 6, 1, 7, 5, 2, 4, 1, 6, 2, 3, 7, 3, 6, 6, 0, 4, 6, 5, 6, 1, 2, 0, 0, 2, 2, 6, 6, 6, 6, 1, 0, 7, 5, 0, 6, 4, 1, 3, 0, 5, 1, 2, 6, 2, 5, 5, 7, 3, 5, 4, 5, 0, 1, 7, 7, 1, 1, 5, 5, 5, 5, 0, 7, 6, 4, 7, 5, 3, 0, 2, 7, 4, 0, 1, 5, 1, 4, 4, 6, 2, 4, 3, 4, 7, 0, 6, 6, 0, 0, 4, 4, 4, 4, 7, 6, 5, 3, 6, 4, 2, 7, 1, 6, 3, 7, 0, 4, 0, 3, 3, 5, 1, 3, 2, 3, 6, 7, 5, 5, 7, 7, 3, 3, 3, 3, 6, 5, 4, 2, 5, 3, 1, 6, 0, 5, 2, 6, 7, 3, 7, 2, 2, 4, 0, 2, 1, 2, 5, 6, 4, 4, 6, 6, 2, 2, 2, 2, 5, 4, 3, 1, 4, 2, 0, 5, 7, 4, 1, 5, 6, 2, 6, 1, 1, 3, 7, 1, 0, 1, 4, 5, 3, 3, 5, 5, 1, 1, 1, 1, 4, 3, 2, 0, 3, 1, 7, 4, 6, 3, 0, 4, 5, 1, 5, 0, 0, 2, 6, 0, 7, 0, 3, 4, 2, 2, 4, 4, 0, 0, 0, 0, 3, 2, 1, 7, 2, 0, 6, 3, 5, 2, 7, 3, 4, 0, 4, 7, 7, 1, 5, 7, 6, 7, 2, 3, 1, 1, 3, 3, 7, 7, 7, 7, 2, 1, 0, 6, 1, 7, 5, 2, 4, 1, 6, 2, 3, 7, 3, 6, 6, 0, 4, 6, 5, 6, 1, 2, 0, 0, 2, 2, 6, 6, 6, 6, 1, 0, 7, 5, 0, 6, 4, 1, 3, 0, 5, 1, 2, 6, 2, 5, 5, 7, 3, 5, 4, 5, 0, 1, 7, 7, 1, 1, 5, 5, 5, 5, 0, 7, 6, 4, 7, 5, 3, 0, 2, 7, 4, 0, 1, 5, 1, 4, 4, 6, 2, 4, 3, 4, 7, 0, 6, 6, 0, 0, 4, 4, 4, 4, 7, 6, 5, 3, 6, 4, 2, 7, 1, 6, 3, 7, 0, 4, 0, 3, 3, 5, 1, 3, 2, 3, 6, 7, 5, 5, 7, 7, 3, 3, 3, 3, 6, 5, 4, 2, 5, 3, 1, 6, 0, 5, 2, 6, 7, 3, 7, 2, 2, 4, 0, 2, 1, 2, 5, 6, 4, 4, 6, 6, 2, 2, 2, 2, 5, 4, 3, 1, 4, 2, 0, 5, 7, 4, 1, 5, 6, 2, 6, 1, 1, 3, 7, 1, 0, 1, 4, 5, 3, 3, 5, 5, 1, 1, 1, 1, 4, 3, 2, 0, 3, 1, 7, 4, 6, 3, 0, 4, 5, 1, 5, 0, 0, 2, 6, 0, 7, 0, 3, 4, 2, 2, 4, 4, 0, 0, 0, 0, 3, 2, 1, 7, 2, 0, 6, 3, 5, 2, 7, 3, 4, 0, 4, 7, 7, 1, 5, 7, 6, 7, 2, 3, 1, 1, 3, 3, 7, 7, 7, 7, 2, 1, 0, 6, 1, 7, 5, 2, 4, 1, 6, 2, 3, 7, 3, 6, 6, 0, 4, 6, 5, 6, 1, 2, 0, 0, 2, 2, 6, 6, 6, 6, 1, 0, 7, 5, 0, 6, 4, 1, 3, 0, 5, 1, 2, 6, 2, 5, 5, 7, 3, 5, 4, 5, 0, 1, 7, 7, 1, 1, 5, 5, 5, 5, 0, 7, 6, 4, 7, 5, 3, 0, 2, 7, 4, 0, 1, 5, 1, 4, 4, 6, 2, 4, 3, 4, 7, 0, 6, 6, 0, 0, 4, 4, 4, 4, 7, 6, 5, 3, 6, 4, 2, 7, 1, 6, 3, 7, 0, 4, 0, 3, 3, 5, 1, 3, 2, 3, 6, 7, 5, 5, 7, 7, 3, 3, 3, 3, 6, 5, 4, 2, 5, 3, 1, 6, 0, 5, 2, 6, 7, 3, 7, 2, 2, 4, 0, 2, 1, 2, 5, 6, 4, 4, 6, 6, 2, 2, 2, 2, 5, 4, 3, 1, 4, 2, 0, 5, 7, 4, 1, 5, 6, 2, 6, 1, 1, 3, 7, 1, 0, 1, 4, 5, 3, 3, 5, 5, 1, 1, 1, 1, 4, 3, 2, 0, 3, 1, 7, 4, 6, 3, 0, 4, 5, 1, 5, 0, 0, 2, 6, 0, 7, 0, 3, 4, 2, 2, 4, 4, 0, 0, 0, 0, 3, 2, 1, 7, 2, 0, 6, 3, 5, 2, 7, 3, 4, 0, 4, 7, 7, 1, 5, 7, 6, 7, 2, 3, 1, 1, 3, 3, 7, 7, 7, 7, 2, 1, 0, 6, 1, 7, 5, 2, 4, 1, 6, 2, 3, 7, 3, 6, 6, 0, 4, 6, 5, 6, 1, 2, 0, 0, 2, 2, 6, 6, 6, 6, 1, 0, 7, 5, 0, 6, 4, 1, 3, 0, 5, 1, 2, 6, 2, 5, 5, 7, 3, 5, 4, 5, 0, 1, 7, 7, 1, 1, 5, 5, 5, 5, 0, 7, 6, 4, 7, 5, 3, 0, 2, 7, 4, 0, 1, 5, 1, 4, 4, 6, 2, 4, 3, 4, 7, 0, 6, 6, 0, 0, 4, 4, 4, 4, 7, 6, 5, 3, 6, 4, 2, 7, 1, 6, 3, 7, 0, 4]\n"
     ]
    }
   ],
   "source": [
    "print(sample_8)"
   ]
  },
  {
   "cell_type": "code",
   "execution_count": 41,
   "id": "1cc068ad",
   "metadata": {},
   "outputs": [
    {
     "data": {
      "text/plain": [
       "<matplotlib.collections.PathCollection at 0x111c6f510>"
      ]
     },
     "execution_count": 41,
     "metadata": {},
     "output_type": "execute_result"
    },
    {
     "data": {
      "image/png": "[encoded data removed]",
      "text/plain": [
       "<Figure size 640x480 with 1 Axes>"
      ]
     },
     "metadata": {},
     "output_type": "display_data"
    }
   ],
   "source": [
    "from matplotlib import pyplot as plt\n",
    "plt.scatter(sample_8[:-1],sample_8[1:],alpha=0.005) "
   ]
  },
  {
   "cell_type": "markdown",
   "id": "4784915e",
   "metadata": {},
   "source": [
    "ourLcg is an example of a **good** LCG to some extent, but the plot above tells us that there is some issues. "
   ]
  },
  {
   "cell_type": "code",
   "execution_count": 42,
   "id": "c626a437",
   "metadata": {},
   "outputs": [
    {
     "data": {
      "text/plain": [
       "<matplotlib.collections.PathCollection at 0x111d9b7d0>"
      ]
     },
     "execution_count": 42,
     "metadata": {},
     "output_type": "execute_result"
    },
    {
     "data": {
      "image/png": "[encoded data removed]",
      "text/plain": [
       "<Figure size 640x480 with 1 Axes>"
      ]
     },
     "metadata": {},
     "output_type": "display_data"
    }
   ],
   "source": [
    "from random import randint\n",
    "sample_8_python = [randint(0,7) for i in range(256*10)]\n",
    "plt.scatter(sample_8_python[:-1],sample_8_python[1:],alpha=0.005)"
   ]
  },
  {
   "cell_type": "markdown",
   "id": "0b38e8ad",
   "metadata": {},
   "source": [
    "The next example will demonstrate what can go wrong if our $m,a,b$ is not so good.\n",
    "\n",
    "Consider $m= 256$, $a = 136$, $b = 3$, $x_0 = 0$, $n = 15$. "
   ]
  },
  {
   "cell_type": "code",
   "execution_count": 43,
   "id": "21cca8a9",
   "metadata": {
    "scrolled": true
   },
   "outputs": [
    {
     "data": {
      "text/plain": [
       "1"
      ]
     },
     "execution_count": 43,
     "metadata": {},
     "output_type": "execute_result"
    }
   ],
   "source": [
    "m,a,c,x0,n = 256, 136, 3, 0, 15\n",
    "gcd(m,c)"
   ]
  },
  {
   "cell_type": "code",
   "execution_count": 44,
   "id": "6c964153",
   "metadata": {
    "scrolled": true
   },
   "outputs": [
    {
     "data": {
      "text/plain": [
       "[2]"
      ]
     },
     "execution_count": 44,
     "metadata": {},
     "output_type": "execute_result"
    }
   ],
   "source": [
    "prime_factors(m)"
   ]
  },
  {
   "cell_type": "markdown",
   "id": "230ca1db",
   "metadata": {},
   "source": [
    "But, since $a-1=135$ is not divisible by 2, the only prime factor of $m=256$, we get into the fixed point 91 no matter where we start from.  \n",
    "\n",
    "### YouTry \n",
    "\n",
    "See if changing the seed $x_0$ makes a difference?"
   ]
  },
  {
   "cell_type": "code",
   "execution_count": 45,
   "id": "97f417c9",
   "metadata": {
    "scrolled": true
   },
   "outputs": [
    {
     "data": {
      "text/plain": [
       "[0, 3, 155, 91, 91, 91, 91, 91, 91, 91, 91, 91, 91, 91, 91]"
      ]
     },
     "execution_count": 45,
     "metadata": {},
     "output_type": "execute_result"
    }
   ],
   "source": [
    "linConGen(m, a, c, x0, n)"
   ]
  },
  {
   "cell_type": "code",
   "execution_count": null,
   "id": "6990a922",
   "metadata": {
    "scrolled": true
   },
   "outputs": [],
   "source": []
  },
  {
   "cell_type": "markdown",
   "id": "3116a9bf",
   "metadata": {},
   "source": [
    "We can look at the linear congruential sequence generated by $(m,a,c,x_0,n)=(256,137,0,123,256)$ from Knuth's classic [The Art of Computer Programming, vol. 2, Sec. 3.3.4, Table 1, Line 5] and compare it with `ourLcg`."
   ]
  },
  {
   "cell_type": "code",
   "execution_count": 46,
   "id": "a99ca7ff",
   "metadata": {
    "scrolled": true
   },
   "outputs": [
    {
     "name": "stdout",
     "output_type": "stream",
     "text": [
      "[123, 211, 235, 195, 91, 179, 203, 163, 59, 147, 171, 131, 27, 115, 139, 99, 251, 83, 107, 67, 219, 51, 75, 35, 187, 19, 43, 3, 155, 243, 11, 227, 123, 211, 235, 195, 91, 179, 203, 163, 59, 147, 171, 131, 27, 115, 139, 99, 251, 83, 107, 67, 219, 51, 75, 35, 187, 19, 43, 3, 155, 243, 11, 227, 123, 211, 235, 195, 91, 179, 203, 163, 59, 147, 171, 131, 27, 115, 139, 99, 251, 83, 107, 67, 219, 51, 75, 35, 187, 19, 43, 3, 155, 243, 11, 227, 123, 211, 235, 195, 91, 179, 203, 163, 59, 147, 171, 131, 27, 115, 139, 99, 251, 83, 107, 67, 219, 51, 75, 35, 187, 19, 43, 3, 155, 243, 11, 227, 123, 211, 235, 195, 91, 179, 203, 163, 59, 147, 171, 131, 27, 115, 139, 99, 251, 83, 107, 67, 219, 51, 75, 35, 187, 19, 43, 3, 155, 243, 11, 227, 123, 211, 235, 195, 91, 179, 203, 163, 59, 147, 171, 131, 27, 115, 139, 99, 251, 83, 107, 67, 219, 51, 75, 35, 187, 19, 43, 3, 155, 243, 11, 227, 123, 211, 235, 195, 91, 179, 203, 163, 59, 147, 171, 131, 27, 115, 139, 99, 251, 83, 107, 67, 219, 51, 75, 35, 187, 19, 43, 3, 155, 243, 11, 227, 123, 211, 235, 195, 91, 179, 203, 163, 59, 147, 171, 131, 27, 115, 139, 99, 251, 83, 107, 67, 219, 51, 75, 35, 187, 19, 43, 3, 155, 243, 11, 227]\n"
     ]
    }
   ],
   "source": [
    "m, a, c, x0, n = 256, 137, 0, 123, 256\n",
    "lcgKnuth334T1L5 = linConGen(m, a, c, x0, n)\n",
    "print(lcgKnuth334T1L5)"
   ]
  },
  {
   "cell_type": "code",
   "execution_count": 47,
   "id": "1a1dd3bb",
   "metadata": {
    "scrolled": true
   },
   "outputs": [
    {
     "name": "stdout",
     "output_type": "stream",
     "text": [
      "{131, 3, 139, 11, 147, 19, 27, 155, 163, 35, 171, 43, 179, 51, 59, 187, 195, 67, 203, 75, 211, 83, 91, 219, 99, 227, 235, 107, 251, 115, 243, 123}\n"
     ]
    }
   ],
   "source": [
    "print(set(lcgKnuth334T1L5))"
   ]
  },
  {
   "cell_type": "markdown",
   "id": "6d67fc9e",
   "metadata": {},
   "source": [
    "Note that although `ourLcg` has maximal period of 256,  `lcgKnuth334T1L5` has period of  32.  Let us look at them as  points.\n",
    "\n",
    "We can plot each number in the sequence, say `ourLcg`, against its index in the sequence -- i.e. plot the first number 13 against 0 as the tuple (0, 13), the second number against 1 as the tuple (1, 112), etc.   \n",
    "\n",
    "To do this, we need to make a list of the index values, which is simple using `range(256)` which as you know will give us a list of numbers from 0 to 255 going up in steps of 1.   Then we can `zip` this list with the sequence itself to make the `list` of the desired `tuples`."
   ]
  },
  {
   "cell_type": "markdown",
   "id": "12db6757",
   "metadata": {},
   "source": [
    "Then we plot using `points` for `ourLcg` and for `lcgKnuth334T1L5`."
   ]
  },
  {
   "cell_type": "code",
   "execution_count": 48,
   "id": "6b4dd39d",
   "metadata": {
    "scrolled": true
   },
   "outputs": [],
   "source": [
    "#?text"
   ]
  },
  {
   "cell_type": "code",
   "execution_count": 49,
   "id": "375e4878",
   "metadata": {},
   "outputs": [
    {
     "data": {
      "text/plain": [
       "<matplotlib.collections.PathCollection at 0x111cce8d0>"
      ]
     },
     "execution_count": 49,
     "metadata": {},
     "output_type": "execute_result"
    },
    {
     "data": {
      "image/png": "[encoded data removed]",
      "text/plain": [
       "<Figure size 640x480 with 2 Axes>"
      ]
     },
     "metadata": {},
     "output_type": "display_data"
    }
   ],
   "source": [
    "fig,ax = plt.subplots(nrows=1,ncols=2)\n",
    "\n",
    "ax[0].scatter(range(len(ourLcg)),ourLcg)\n",
    "ax[1].scatter(range(len(ourLcg)),lcgKnuth334T1L5)"
   ]
  },
  {
   "cell_type": "markdown",
   "id": "2728977c",
   "metadata": {},
   "source": [
    "We can see that in section 3.3.4, Table 1, line 5 in The Art of Computer Programming, Knuth is giving an example of a particularly bad LCG.  \n",
    "\n",
    "When we introducted LCGs, we said that using an LCG was a simple way to imitate independent samples from the Uniform$(0, 1)$ RV, but clearly so far we have been generating sequences of integers.  How does that help?\n",
    "\n",
    "To get a simple pseudo-random Uniform$(0,1)$ generator, we scale the linear congruential sequence over [0, 1].  We can do this by dividing each element by the largest number in the sequence (256 in the case of `ourLcg`). \n",
    "\n",
    "**Important note:** The numbers in the list returned by our `linConGen` function are integers modulo $m$."
   ]
  },
  {
   "cell_type": "code",
   "execution_count": 50,
   "id": "ac89d6d2",
   "metadata": {
    "scrolled": true
   },
   "outputs": [
    {
     "name": "stdout",
     "output_type": "stream",
     "text": [
      "[0.05078125, 0.4375, 0.41796875, 0.7421875, 0.16015625, 0.421875, 0.27734375, 0.4765625, 0.76953125, 0.90625, 0.63671875, 0.7109375, 0.87890625, 0.890625, 0.49609375, 0.4453125, 0.48828125, 0.375, 0.85546875, 0.6796875, 0.59765625, 0.359375, 0.71484375, 0.4140625, 0.20703125, 0.84375, 0.07421875, 0.6484375, 0.31640625, 0.828125, 0.93359375, 0.3828125, 0.92578125, 0.3125, 0.29296875, 0.6171875, 0.03515625, 0.296875, 0.15234375, 0.3515625, 0.64453125, 0.78125, 0.51171875, 0.5859375, 0.75390625, 0.765625, 0.37109375, 0.3203125, 0.36328125, 0.25, 0.73046875, 0.5546875, 0.47265625, 0.234375, 0.58984375, 0.2890625, 0.08203125, 0.71875, 0.94921875, 0.5234375, 0.19140625, 0.703125, 0.80859375, 0.2578125, 0.80078125, 0.1875, 0.16796875, 0.4921875, 0.91015625, 0.171875, 0.02734375, 0.2265625, 0.51953125, 0.65625, 0.38671875, 0.4609375, 0.62890625, 0.640625, 0.24609375, 0.1953125, 0.23828125, 0.125, 0.60546875, 0.4296875, 0.34765625, 0.109375, 0.46484375, 0.1640625, 0.95703125, 0.59375, 0.82421875, 0.3984375, 0.06640625, 0.578125, 0.68359375, 0.1328125, 0.67578125, 0.0625, 0.04296875, 0.3671875, 0.78515625, 0.046875, 0.90234375, 0.1015625, 0.39453125, 0.53125, 0.26171875, 0.3359375, 0.50390625, 0.515625, 0.12109375, 0.0703125, 0.11328125, 0.0, 0.48046875, 0.3046875, 0.22265625, 0.984375, 0.33984375, 0.0390625, 0.83203125, 0.46875, 0.69921875, 0.2734375, 0.94140625, 0.453125, 0.55859375, 0.0078125, 0.55078125, 0.9375, 0.91796875, 0.2421875, 0.66015625, 0.921875, 0.77734375, 0.9765625, 0.26953125, 0.40625, 0.13671875, 0.2109375, 0.37890625, 0.390625, 0.99609375, 0.9453125, 0.98828125, 0.875, 0.35546875, 0.1796875, 0.09765625, 0.859375, 0.21484375, 0.9140625, 0.70703125, 0.34375, 0.57421875, 0.1484375, 0.81640625, 0.328125, 0.43359375, 0.8828125, 0.42578125, 0.8125, 0.79296875, 0.1171875, 0.53515625, 0.796875, 0.65234375, 0.8515625, 0.14453125, 0.28125, 0.01171875, 0.0859375, 0.25390625, 0.265625, 0.87109375, 0.8203125, 0.86328125, 0.75, 0.23046875, 0.0546875, 0.97265625, 0.734375, 0.08984375, 0.7890625, 0.58203125, 0.21875, 0.44921875, 0.0234375, 0.69140625, 0.203125, 0.30859375, 0.7578125, 0.30078125, 0.6875, 0.66796875, 0.9921875, 0.41015625, 0.671875, 0.52734375, 0.7265625, 0.01953125, 0.15625, 0.88671875, 0.9609375, 0.12890625, 0.140625, 0.74609375, 0.6953125, 0.73828125, 0.625, 0.10546875, 0.9296875, 0.84765625, 0.609375, 0.96484375, 0.6640625, 0.45703125, 0.09375, 0.32421875, 0.8984375, 0.56640625, 0.078125, 0.18359375, 0.6328125, 0.17578125, 0.5625, 0.54296875, 0.8671875, 0.28515625, 0.546875, 0.40234375, 0.6015625, 0.89453125, 0.03125, 0.76171875, 0.8359375, 0.00390625, 0.015625, 0.62109375, 0.5703125, 0.61328125, 0.5, 0.98046875, 0.8046875, 0.72265625, 0.484375, 0.83984375, 0.5390625, 0.33203125, 0.96875, 0.19921875, 0.7734375, 0.44140625, 0.953125, 0.05859375, 0.5078125]\n"
     ]
    }
   ],
   "source": [
    "ourLcgScaled = [x/256 for x in ourLcg]\n",
    "print(ourLcgScaled)"
   ]
  },
  {
   "cell_type": "markdown",
   "id": "8c8f6d63",
   "metadata": {},
   "source": [
    "This is more like it!  We could have a look at this on a plot.  Again again want tuples (index, element in scaled sequence at index position), which we can get using `range(256)` (to get the indexes 0, .., 255) and `zip`:"
   ]
  },
  {
   "cell_type": "code",
   "execution_count": 51,
   "id": "ef2ae56d",
   "metadata": {
    "scrolled": false
   },
   "outputs": [
    {
     "data": {
      "text/plain": [
       "<matplotlib.collections.PathCollection at 0x111ed2b50>"
      ]
     },
     "execution_count": 51,
     "metadata": {},
     "output_type": "execute_result"
    },
    {
     "data": {
      "image/png": "[encoded data removed]",
      "text/plain": [
       "<Figure size 640x480 with 1 Axes>"
      ]
     },
     "metadata": {},
     "output_type": "display_data"
    }
   ],
   "source": [
    "plt.scatter(range(len(ourLcgScaled)),ourLcgScaled)"
   ]
  },
  {
   "cell_type": "markdown",
   "id": "e91557c9",
   "metadata": {},
   "source": [
    "Now we have points on the real line.  We could use a histogram to look at their distribution.  If we are hoping that our LCG, once we have scaled the results,  is imitating the Uniform$(0,1)$, what kind of shape would we want our histogram to be? "
   ]
  },
  {
   "cell_type": "code",
   "execution_count": 52,
   "id": "5dd03cde",
   "metadata": {
    "scrolled": false
   },
   "outputs": [
    {
     "data": {
      "image/png": "[encoded data removed]",
      "text/plain": [
       "<Figure size 640x480 with 1 Axes>"
      ]
     },
     "metadata": {},
     "output_type": "display_data"
    }
   ],
   "source": [
    "_=plt.hist(ourLcgScaled,bins=40)"
   ]
  },
  {
   "cell_type": "markdown",
   "id": "ffebbbdc",
   "metadata": {},
   "source": [
    "Is this roughly what you expected?\n",
    "\n",
    "We could repeat this for the Knuth bad LCG example:"
   ]
  },
  {
   "cell_type": "code",
   "execution_count": 53,
   "id": "69a9b759",
   "metadata": {
    "scrolled": true
   },
   "outputs": [],
   "source": [
    "# YouTry"
   ]
  },
  {
   "cell_type": "markdown",
   "id": "53e5c171",
   "metadata": {},
   "source": [
    "And show it as a histogram.  Given the pattern above, what would you expect the histogram to look like?"
   ]
  },
  {
   "cell_type": "markdown",
   "id": "faf175db",
   "metadata": {},
   "source": [
    "### Larger LCGs\n",
    "\n",
    "The above generators are cute but not useful for simulating Lotto draws with 40 outcomes.  Minimally, we need to increase the period length with a larger modulus $m$. \n",
    "\n",
    "But remember that the quality of the pseudo-random numbers obtained from a LCG is extremely sensitive to the choice of $m$, $a$, and $c$.  \n",
    "\n",
    "To illustrate that having a large $m$ alone is not enough we next look at **RANDU**, an infamous LCG which generates sequences with strong correlations between 3 consecutive points, which can been seen if we manipulate the sequence to make 3-dimensional tuples out of groups of 3 consecutive points.  \n",
    "\n",
    "In the cell below we make our scaled sequence in one step, using a list comprehension which contains the expression to generate the LCG and the scaling.   "
   ]
  },
  {
   "cell_type": "code",
   "execution_count": 54,
   "id": "dbf4d962",
   "metadata": {
    "scrolled": true
   },
   "outputs": [
    {
     "data": {
      "text/html": [
       "\n",
       "        <iframe\n",
       "            width=\"95%\"\n",
       "            height=\"600\"\n",
       "            src=\"https://en.wikipedia.org/wiki/RANDU\"\n",
       "            frameborder=\"0\"\n",
       "            allowfullscreen\n",
       "            \n",
       "        ></iframe>\n",
       "        "
      ],
      "text/plain": [
       "<IPython.lib.display.IFrame at 0x111f04f10>"
      ]
     },
     "execution_count": 54,
     "metadata": {},
     "output_type": "execute_result"
    }
   ],
   "source": [
    "from Utils import showURL\n",
    "showURL('https://en.wikipedia.org/wiki/RANDU')"
   ]
  },
  {
   "cell_type": "code",
   "execution_count": 55,
   "id": "764726d5",
   "metadata": {
    "scrolled": true
   },
   "outputs": [],
   "source": [
    "m, a, c, x0, n = 2147483648, 65539, 0, 1, 500010\n",
    "RANDU = [x/m for x in linConGen(m, a, c, x0, n)]"
   ]
  },
  {
   "cell_type": "markdown",
   "id": "bd4b6d33",
   "metadata": {},
   "source": [
    "Have a look at the results as a histogram:"
   ]
  },
  {
   "cell_type": "code",
   "execution_count": 56,
   "id": "a21ef9b1",
   "metadata": {
    "scrolled": false
   },
   "outputs": [
    {
     "data": {
      "image/png": "[encoded data removed]",
      "text/plain": [
       "<Figure size 640x480 with 1 Axes>"
      ]
     },
     "metadata": {},
     "output_type": "display_data"
    }
   ],
   "source": [
    "_=plt.hist(RANDU,bins=40)"
   ]
  },
  {
   "cell_type": "markdown",
   "id": "26ca39fb",
   "metadata": {},
   "source": [
    "Now we are going to use some of the array techniques we have learned about to resize the sequence from the RANDU LCG to an array with two columns"
   ]
  },
  {
   "cell_type": "code",
   "execution_count": 57,
   "id": "e49f9912",
   "metadata": {
    "scrolled": true
   },
   "outputs": [],
   "source": [
    "import numpy as np\n",
    "m, a, c, x0, n = 2147483648, 65539, 0, 1, 5010\n",
    "randu = np.array(linConGen(m, a, c, x0, n))"
   ]
  },
  {
   "cell_type": "code",
   "execution_count": 58,
   "id": "09ebf582",
   "metadata": {
    "scrolled": true
   },
   "outputs": [
    {
     "data": {
      "text/plain": [
       "(5010,)"
      ]
     },
     "execution_count": 58,
     "metadata": {},
     "output_type": "execute_result"
    }
   ],
   "source": [
    "randu.shape"
   ]
  },
  {
   "cell_type": "code",
   "execution_count": 59,
   "id": "696a7dae",
   "metadata": {
    "scrolled": true
   },
   "outputs": [],
   "source": [
    "randu.resize(5010//2, 2) # resize the randu array to 2 columns"
   ]
  },
  {
   "cell_type": "code",
   "execution_count": 60,
   "id": "4ad85fd7",
   "metadata": {
    "scrolled": true
   },
   "outputs": [
    {
     "data": {
      "text/plain": [
       "(2505, 2)"
      ]
     },
     "execution_count": 60,
     "metadata": {},
     "output_type": "execute_result"
    }
   ],
   "source": [
    "randu.shape"
   ]
  },
  {
   "cell_type": "code",
   "execution_count": 61,
   "id": "bf7ef1e6",
   "metadata": {},
   "outputs": [
    {
     "data": {
      "text/plain": [
       "<matplotlib.collections.PathCollection at 0x113f8a950>"
      ]
     },
     "execution_count": 61,
     "metadata": {},
     "output_type": "execute_result"
    },
    {
     "data": {
      "image/png": "[encoded data removed]",
      "text/plain": [
       "<Figure size 640x480 with 1 Axes>"
      ]
     },
     "metadata": {},
     "output_type": "display_data"
    }
   ],
   "source": [
    "plt.scatter(randu[:,0],randu[:,1])"
   ]
  },
  {
   "cell_type": "markdown",
   "id": "fae4a2d0",
   "metadata": {},
   "source": [
    "Let us resize the LCG to an array with three columns.  The effect will be that if our original sequence was $x_0, x_1, x_2, x_3, \\ldots, x_{n-3}, x_{n-2}, x_{n-1}$, we will get a list of triplets, tuples of length three, $(x_0, x_1, x_2), (x_3, x_4, x_5), \\ldots, (x_{n-1-2}, x_{n-1-1}, x_{n-1})$.  Unlike the pairs in 2D which seem well-scattered and random, triplets from the RANDU LCG are not very random at all! They all lie on parallel planes in 3D. "
   ]
  },
  {
   "cell_type": "code",
   "execution_count": 62,
   "id": "9896822c",
   "metadata": {},
   "outputs": [
    {
     "data": {
      "application/vnd.plotly.v1+json": {
       "config": {
        "plotlyServerURL": "https://plot.ly"
       },
       "data": [
        {
         "marker": {
          "size": 2
         },
         "mode": "markers",
         "type": "scatter3d",
         "x": {
          "bdata": "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",
          "dtype": "i4"
         },
         "y": {
          "bdata": "AwABAFEAbACLCO8TqebeANNTVWtB10Ap27OxDRn41mmjKk9UMX+KYytqxmmJMnZac1TqXiHo12p7e0BA+QXGTEOhJToRAgkkyze+BGnieGIT4dJDAb0+ZBvvuAHZN1pm4+NmL/EIywhr8dReSXa+drN5yX/h1SBQu44xArkN80iDciUk0RPEYwsXuRwpbq51U564B8GyOQNb2nAxmQeAPiPNo2Sxovc/qyjJZwlKQDzzzropodNUOvtR7Xh5pYBmw3NUQ5E1eU9LphMI6Yn7Y5OLGheBuE0om3XNNVlnBBRj5tkCcUxsGesPVz7JrfdAM1RSLmHhD0Q7xedyOc2qawOlBgBRZwRoi+UBXqk13B/TqAwFQc6WVtvAwmIZV6NBoy/dGzEGhXYrpzIniaHgQ3MJJDIh/+1Ie+iUGfmErTdDBpBlEalBX8vUt2BpccwkE/aiVwH0MDIbvEQH2dYYG+OogQTxz51Ja+4PMkkl92yz7sNs4SyLJbu7aDG5zMQCg5dEYtH6DFgLdGk9KT1IN1Nz8UfBKThAW2dHLZnmIC0jUpsUsakSVqvlonkJOTcN8wPGaKFqg3f7PtdZeaQsHsNYeAeRXEImS8NKTOmYyySTIAwCgW/IJpvCvllZhnd9Yyv+ZnGTP3DrjJ9jydycXjNJvkNhuHJdO3JUTTkMITQDSn9JUc69DovCj1CphNID0/0GZUHF/WzbzZ5MGbbYSqM0fhkxjYA9K+S5YIkQJERzvkBuIRb1NntVVCH5A94HQ2utPxFQWwfLcWw4aQDZcxML9kIBK/Q6G4nbQNl1AE3jbe8M8ZYxdGvrpSxJ1MgJs2Pha+GDpmS76EoGuYufNYO8VmTR4fZ2C9EUXSkMW11TSO0gwaDHGVv0aCyZxap0I9clJbGwrhurohcOCSiHJPM4NBOhASMI+yusB3mjoXLDPc9UkYNsdUvgvELpp9Qxk7UAd4EmlDObDzsAWaWTK2Nw9Qhx2lNM6wnDFskLW3IzPs1NYY8GRDsf7Es5SyBNA+9qEVE1mAuLn5hYqdPBK9NSRHBBvHUT29pFaBkVdxSjOTJiMRR9byshXGOJf0B6c3NAWCEt7Xt7wn5U+YJXbEPQfT0R91Vzyw7cOGmPng4TIMwqAWKIZRtWfQvZFBFL4zKwHfFdhn9r6JZbSYMzLLPYIQLh2nIUuxXYPblKg1CD4Vtf0ciBVwsuu2gp2+ZmUx2sd8EX6DZbgdVLmaQdJCNcQyuxt8tHq18ncgkXMCHzbQVuoZgzM/sYbH95ot8SwyJZIJGq9xNL/WkY6bYWSpNK+BqB3bA1m1xCBlnEWG1jtb89cSGpJOuGwWTJOjJbMzN/UWFmy347zK4rOYqoJQOUyQxRnJN1i3wcY6kiqhbTp8QLQbP+cNvnt1IZdH4toz75CjGbekMrXhl8ie41BXMoIzUhRNZeey8UMPkBGhRDNQFUEZ4xesurBg9pHh00EzUlNAGZ7RgbIypE2bNKZOP3wwvxJJxia+XiS0kyNzOzTYU04THwO7tCEBW5CXBCgwZUCNGvrRALi1xNKarrUlPyLTHBjpk+Ww6NKJmDeUoj4fM7sb5pEasc0nIJBjIi86I5PqEvtT/7BRc+eaHmLcMHFl+R0eNYSxpSeunFkSyT3/ISgZQeFJup1EhZ48YRY/pcWnFoP3DrA5tayWkieDMo1FNhPcEUO3mcKTnJuSwDOZtwUQOwY4tZG12pcYtD0/yHHEGqmCzb9PQoGdPuJKND0ygxInlwK5vxd4ldBARz3ehJIVuwJnucFDH5gCUuQ5o3eBFF7nLLSOxnaa1UIxNKAQQB0CM8G/DhR9lSrWfjvCos8etyFGviiQpJ4dN9s8ILCOGIHmK7b/NIuchleoMrPxTRlno5C+j4dyl5aSBTx3IywQXcV1ubj1+ZYr52I2Y3bLHFiC+r2RddCfWMRvPX0Eihxqd0+/KsQHmgtnLD7AUGkfgwG0s3dRXp1EUYk3TwA4FL3TWb9vEkWQLeZ2M/zTNxrxYm64BPBcmYKygzHcxZYRToDDsmtQI5CFRRA97fcVFq7WyLNpUzqcBlMdNRjgdBoUNt2wH9BxkyyAmjSMBQMal4LSvY5COJzKsVc5KRWyFyexp7CYBU+f95aUP/IB8R7Is0y+WMcGk8RRsTX2A/AQcrNhu9pHPZ8Tgk44HkU/GyCgxr34skSZAJa7M3tQHh3/0Nu5yBFrmHZGeDUB040X3oaAtFkFUpSGBOU5x6YMF8rylbKN0NmUHsNyPrDVGxzChZq5b4fQnkQC3zDMtSoV0LGfvfLQR5n08Qw9EoCpEf3zFLVNMW6eMyTJMJ8RKBAu0Bm0Oad1khnj5jhBAfcfYuPev93nHJx01KMxJnaGHrP2470/hzOUd3AgODl0VR0UsoixOKU6kPOV/TptcxQZj/WdsO0AwZkQpro03AFzEweTErFfNMiTssWXNHHS8hiTcBe3ZWF/l+F3VDZL09EZMKFsuC6FVpy+5aE3RCCwE+A24binIk2ZDtaONG8VfxeWNAa9zoJkk/2FmzrIEm4TaORrvJujq5Rmx4g3XuKNFk9zULoiJTKRfQW1NxRSDB8xNbW7V1UJkgAx0jcHd/sdNJRatTdCIJ001180EoIaH033P7zJkFeZ6xNcO2fmCRRu5zS3FsK+nyWAeTnvRkgblNX5uQzR1ZQAdlY8kmcXE9iCzrekktyfaIPTMHpQRhwsg/O4BnOjmGIy8DKMIgUTjLLIvw+SmpXgVM0/tjAEGPzBnbG25UGfC1V6NS0xIxt3ozK1IcQImqhW1z/IsJIaDkIXvjl3b5/f1/Q8kMSRE6am7LH/9EaVpRIROJpwwBdaxKG1dLN9kvywTjC1EN8UB9KGvZoB5J7j8psyFxe+GNzxK79p5yuQV9HIOashvRS6c3C/+vXSnmuEdTRtNWwWoJE1tCWUSZ/wI1I/VzDLHa6yqrEIsXCcKzPfN26HihiyVM+7nwQXmd3BHDmwd+kW1eOEuOQADpAbgIkzP7HoFw/zSb3Yt0WV8ZKmMOEH9xhCJr6/eORMkl3WAz/IUzYZmCCDstARM5xVhGA81fOFGfaxGLzeQjqa3KdtNQM1hBhqpT2yjXexlPyl6jV/lWMT59aiuPYEqJGbhxc7HdLyG3gkN7UERv+XwtOUMuDzYR4aoUy7zQamnpbC0Tno9oAawmMxskLwnZztFG49ADSfEHWDtr1rMYSZ1AOLOWgwXh5MF5uyMue7nElkKDv2lF0TL4BAtcOGIptRoRUxskacHhj3hbz4cGmd7rDiN6Aw2x4Q5Bq808KgmxciXzqwsfoSLcaPumMjZ5nNBTw4DDV5GUL1ZLq09C6RBQD5PIBGaBJwJqmyrVWFl+1FxjU8wdccv9b+t0r0TJVEoTM/EJemFwbU872sU6OQQXNwNycEFRBi1ti6pKLqn8iF7TpUUeQX2ZLts1CyAZrkcPo1wyeTHFgA0rzL84iYjDBHNmEmchzhEte71bfvn7pU9Dk8R5EYjMX8tZXXRpeEE+E7P6QwHjcQ4b8R132W0BfuOVCWDxzvNva9MhIklM2mWzC7lJ4TtlArtQaBG5g7lZg+QTW9EZ6jQLubtNKYT1NlPwNzzBWKcyW1wBNJm9vTkj/yUWseiyPquKiScJoIpL8+CRWKG5AxH7k19feZuNKsNlsmKRu2EkS8iZHukfIVqTXRFfgd5VZZt3qSdZnThMY5hbInESGjLr8ao6yYPQMzPmMF1hR4kbO4e1bjlDXnADF/RwUW0PV4uHKzapS0AC0/qaN0F0mVHbQgpeGQ0ueKNhfg4xTIVTKwk6WIn3p0VzGyp0IeWRJXsq3iD5emdyQ/gsCREvzybL9qQOaQfPEhPI6EMBGo5DG74XXtkMWnnjWmIn8ZVQPWvQ6kdJ+wwRs4ARTeGSuTO7fU1yuULlUIMJsRHRAH1eCxY6DSlTSThTxQ41wc9PaFvpxWmZnHhEI4TbPLHv11qrR3FcCY/7TvMVe2qhUJwL+4B3OnmaE0XDStQTkeL0eUvlHkLpLisok/IgL4GV+g2bxAg+WbxFR2PdvWFxWXco626BM8mybyEz2/phYR7Wczs00Gs5gi5hA7zqe1HUEmaLZIcoqZrwYNNPMwlBa6pj20/UUhlsfSijZt0rMdOKcytGz3WJZmVTc9AkHCH8AnR7l8tT+flxUENdSFkR1rJAy5OnZmmWFWoT3VkNAVF7ORuLHBvZq9sH4x8OdPFcbhprzQ4XSarYGLP1jBTh6b4Uu6rdWrkBGheDLkEe0eewGAtzsw0pIhYUU5qoOMFGiUBbdtVEmXscPiMJJBax9n1MqwT0FQl+xU7zSscZoeelH/ttekR5mWJSwy8pYJEJ6S1LAt9Z6T1uOJOHM3uBTPBKmxHzeFnb+xxjIvMwcaAVSuvrMjzJ4Sc7M9BnDWH1U1874RVvOcGHeANhVBdROzcxi0FecqnpmXnTpA54QWLMC9tcaRsZyzUvo2tPZjFakSQrg39eidX7THOFAiQhE2VfewQkFPl4xRhDwhZfEX13BMswZSlpJRUDE/JNRQGIOVcbWCwL2UqGeOPkDBvxI01+a8qNHElZPVyzaisl4UB1LLvXGAi5wFcbg1PENdHOhXoL0Cc8KfFbSVNvBSzBvVNiWwMwYplaqTUjjv82sf2kSqvBESEJbehp8392K6F+IBT7Wmh6eZh6AcMUsTyRMD4XSx/aEulM6kmTHElogQM3A5teaDVZ+locY2f7ZHHn9A3raL9hyRD5XzPFd2RhzAJlO46GNTkAaiUDBjF4UaJ8T4sesACpODxL0/ksaUFZ/3DbaclUGSpXG6Nw1FIx4ZgdK8BKX4lEa1FzOsNQISq4Lntx517592F6QyeYDxEkHUnLzd0DabTNHBMHxRABv8gDGyVHC9npWRrjqV5x8ersX2vHZ2VJCDs6s9/sA+GX3AG7BP82uX+eTIN4Og3RtfsaCy2XBSnAGldTRCV0wTSvdFuQ1V6ZOR86IxNuNLEETQyrfspKCVxkP/O0iGShFQww+0dBWXmXWwHD+WsekVf0DEs8EBrpW58bk7FhG4G6zh2bq2hQWRljFGOs1lJxLhVr6+UmMck/424zuipsYaPiCzs7Inw5P9VWA6uAU1EJ41eL+3xAqYfXVNNOjkFBUEM623b0GxmJ4XujdWwGMWihFSv9MEWJs7N/c+9mZyFB/Ch73hUx+XZHJEOMzF8Ry6Nly2oRI2lDP3YTHL8UAfYoJhvybHjZiFY8424DTPGxTTZrxJx+SbfREbNU0TXh7vQbuzGQJLk+7hmDnaNZ0ZwSEQuKAVcpj1I8UxkIdsGrmx5bHcZXmRh+WiOYbyOxC3ZIqzseYAlLOW7z6f0JoaxoOvs0BV55lgUBw95ZepF+C2ZLWYEc6WqNbJNGfTmBcbcBm/jzJlk4FFRj8YRPcXV2WOtiaTfJbuZGM6+AKWF681o76Oh/OX7JewNQQ15RcGphi9jEHqnWaxXTozJmQUeYDtuD6g0Z6NRfo3oXFjHvqkMrOjJdiSLVdnOk7SwhWDEVe0uvB/n1dUVD8bNEEXILMcsHADRp0mlOEzE8dgEtWiUbv50v2Sd8LeMz+3/xeG94a8EsdUlmAUKzydg/4UW+AbtezA25/UZyg8L/T9GDynML52YdKV4DeFPurRbBIhkHW6oBapn3xSUjHQQZsRIgNqv4DC4JOmcV8x7WYKFDNnr7IbQFeZV4L8PDekWRpYN5S3YtR+l5tHuT25tngSjxFZtFChZZV24qYzYGMHG8GE3r34YByZ0CRzOkeSFhUTVZO5XafTm9RgMD9XhNUdcSA4u1hwipJfkL0/gZPEE+/hTbkKtHGUcxVqN/1RYxdrVeK3dOdImRz1VzWVdmIW9XOnu4s1/5dO0MQ1ZOMxEZVALLpKljaWFNZBNGPFoBZFxoG4zZDdnGyjzj+EVi8T9SHWu+F1ZJFcopsz4DJ+GcODq7i7MvubyoRIPnTiXRaiNaC0THRSktLQlTwxY7wZknVVs3iDKZ1vYqI6IrKrEZSwyrtZYBCSnuU/NTES6h2nQ2+w5OTXmUtDvDqM50kcxcHkuTFEfpiBQIk3C9SoHfe0Gbkqt6WXZxZmN7WklxA/w/61x/HMnMN04zmRVZYSioDTtC9zI5/ExcA5ohVlE+3FOLksVqqXR/N9NNRChBNXV02503Zhmm9m2jhKYdMf3AHSu0hVeJAKM7cw6kWCGGbl97JSM2+fOtKUO7myARwH0wy0EOX2nw6XYTW79lAZsvVhtZIHDZZUI5473jR/EG9htru10uScQrKLOzUHDh82NMu7hFR7l7EwCDDJEO0VEdWwuhIj0p/M9uU5hCSMEQxy9bxFlOmbUQeSMn5muxIPcBq3K7JwkYzkjziK82oXEkNvv70jF5k7lUw41VfZHzlitLsDZJ6ZetUJMF4geBlldrm9/XMVmVHVdjwIFwcUogKOvZUhXJ+4U7M45UVWH/S3877z5cOTvcdQM/PS1RpcZqi29+MqnD/hbTorEPQSz9U9uqjgYZBSU2o4mKPzGEzTcr8ddTiW9PR3PD00ghnXZLe5L9B/lyt0pDIJwBEWeIEsveLVNpfz9FE3DFPQHS01UbJnIz2QTjceOC1AXxzVpra7j+CklzJhyzKMEg4UpAP7vlghG5OocTgzHGQNE4uA0L/nhwKcvrJ1NtMSPBh/c9W1F2WpmUEx8jrDNzsSckTqsve20JBwcT872wP6EIRUD76EIweZKHKcNyD1SRGjJ4S82TeummfxSTmglEgU2EepssjxhZtHJLYwV8enGRhXzrVgF5ySrtbTODNhth1iA1O5yxNjl69D4D5MsHUQzSXotMskypEncp0/dhV0Ejllrbt7BFGWS8PaOOgRExC9tjKy5FNone1BdzeOZ7IbRvRXv/QlL58QkfQ4VPSxEOdH/LewhtaQ5ODhOFTgcBCUlOG/PONNmjrDXjRxhx8ZSAAmu1+nhJIrpks51UPeGhzRm7EmtLufkDboNW7nDRH/QIC1vKTCmagDNTQuMwwf64Jlve3XOZc/8rIzEUVbEu0ier7NUfCfaYUfPyFA6hn9Yb+9WdRXmRHmnDV/xtkUEuW0vqKwjptYoSky80JIEEAlabedELWdNwEmNKSTxx2Cs069OKVMlZbUQzeLsvYa0mNjtJT385uZUmA4nNGlFz/kaLKWEmqWHobdNMVWRBGkAv28SdQBnDvBOjk4soMZLpWCtrzUuJTTNMcy3cNiHLWRR7bPMR+XClVUPqtXIRtUBOyxieWWmdFRETmlpnAUCPJhvANlHZQp9T4wyvXvFbZ1hrslEFSdHmYLMSC0vh+Atjuz/+Mbm4iX6DewlU0QbRYwu4Fj8paY4QUxdYVsF1CxFba5A3mVLULiO2hyaxNQFGq6nLCwnlgyPzJ9xmoTbZD/vC4255kH5CwzwcQJFoiytLB/8e6cTOCZPEYU2Bu9Bkm8aeaFnyF3tjj+kKcR8TRutQ7zTJiAYeM23jF2GEXQk79hdzOfi/GwMuQhtR2ks6iwaLLKmwUmPToYsbQRH7eNvRVRQZIiZHo5ioGTEZ+U0rqHBhibxqA3PitD4h4jR/e9kORPnviR1DT89sEVzuVcu17kVpLJYME6/pAgF3pkUbjall2eG6GuPRmCPxIg9ka68DPUmArG+zh+RO4U/7IbtsPAK5dxg0g6AXH9HtTjULFV40KTgVPlPsj3jB7O4jW/iNQpkxkjYjO458sTyxX6tmXH4J1Mcn81wGD6HNTGP7rxQpeY+nZMMhbz+Rj0lASyQNbOnTSzmTWZJkgXLwDZsT9wtZEWhUY9RcO3FmOynrzS4nybe4WTNirlhhW8U1O6MLTzk3cw0D0yk+UUG6T4vjL0yp/7UI0/YEYkEIx17b3thdGYH4ZqOd2HkxoAl6K+UuRIkre1xzl3BYIfkATXtGlWX5brclQ7SbLhEDfW3LUvpeabvPPxPE+34Bro4SG1onT9mA/1njltUU8el3HGusEC1JLwtws/zgTeGmm127mSV5uTawfYPFGAfR1G0UC3KgGSkHFTtTwYp8wWNjBluF1jGZEDlSI8AnbLFD4iurI4hECcNkffORk0uhZDFd+5wwcXmOmX7DBvVgkbZocEtBVhzp4gFgk+7FDoEpYTibYNpSWTBhbWMZoyJxraRU60pJOMnmg1YzVxx3YTJeQjtQKlA5dq9qA3iEOFGoSR6LwE9yqU4SXdNLwRxB/6MH2+smOhngMwKjohteMScbFCsiCEGJmmR2c0wPSSEQvkR7s4Zz+e0tHUMZGy0Rquxry+/AUWlKwmkT2ZAAAeVHdBsnsGrZH21g41tlB/GwoXhrqXhiSd4CQbNxAE3h/ewcu8a5U7n1UEqD6gxB0bstGAvP3Vsp1o0GU5ZIR8HaaF9bEmoime/IECNFVAqxSpRhq+BOKwmyWkPzxoNhofuGRPuJN0R5jVQ/w+utGZHd6BJLXtpc6fHwPJOD/HCB4CJLm61IGllPAxVjXrwVcfROP+vHPnXJFWhzM0wteGEJKDY7/XMzObV0IgMdUj9RD/o8i53qC6mdZ1/ToMAwQfaRGtv4P0YZP9gno6dxWzGuLVMrX/wkiQkncHMBkVUhJ2wteyDjavls7TJDfk1dEVE9KMuMQktp2W1JE+6oLAEc0lEb9EMV2b4DfeMgSFDxd4xva6Y7akmNk0Gz5kJR4VTvZrvz+E65tPoIgw/0AdGijlcLLBZoKaV/H1NryT3BUf9VW59IMZnOQQEjyhNssVHHN6udsH8JoakY8/vWFaGSTWD7dikfeYzYVcPQmV6RBMp+S3uZWukAGQ+TGDYwgZc1LZv6QT9Zbk4aY6OoaXE7OmDrRA9ryURlDzNB4WBh4CIYO6roNTn0wiMDwpIHUXbLQot6AAap7LUO0/UCA0HtkD4=",
          "dtype": "i4"
         },
         "z": {
          "bdata": "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",
          "dtype": "i4"
         }
        }
       ],
       "layout": {
        "template": {
         "data": {
          "bar": [
           {
            "error_x": {
             "color": "#2a3f5f"
            },
            "error_y": {
             "color": "#2a3f5f"
            },
            "marker": {
             "line": {
              "color": "#E5ECF6",
              "width": 0.5
             },
             "pattern": {
              "fillmode": "overlay",
              "size": 10,
              "solidity": 0.2
             }
            },
            "type": "bar"
           }
          ],
          "barpolar": [
           {
            "marker": {
             "line": {
              "color": "#E5ECF6",
              "width": 0.5
             },
             "pattern": {
              "fillmode": "overlay",
              "size": 10,
              "solidity": 0.2
             }
            },
            "type": "barpolar"
           }
          ],
          "carpet": [
           {
            "aaxis": {
             "endlinecolor": "#2a3f5f",
             "gridcolor": "white",
             "linecolor": "white",
             "minorgridcolor": "white",
             "startlinecolor": "#2a3f5f"
            },
            "baxis": {
             "endlinecolor": "#2a3f5f",
             "gridcolor": "white",
             "linecolor": "white",
             "minorgridcolor": "white",
             "startlinecolor": "#2a3f5f"
            },
            "type": "carpet"
           }
          ],
          "choropleth": [
           {
            "colorbar": {
             "outlinewidth": 0,
             "ticks": ""
            },
            "type": "choropleth"
           }
          ],
          "contour": [
           {
            "colorbar": {
             "outlinewidth": 0,
             "ticks": ""
            },
            "colorscale": [
             [
              0,
              "#0d0887"
             ],
             [
              0.1111111111111111,
              "#46039f"
             ],
             [
              0.2222222222222222,
              "#7201a8"
             ],
             [
              0.3333333333333333,
              "#9c179e"
             ],
             [
              0.4444444444444444,
              "#bd3786"
             ],
             [
              0.5555555555555556,
              "#d8576b"
             ],
             [
              0.6666666666666666,
              "#ed7953"
             ],
             [
              0.7777777777777778,
              "#fb9f3a"
             ],
             [
              0.8888888888888888,
              "#fdca26"
             ],
             [
              1,
              "#f0f921"
             ]
            ],
            "type": "contour"
           }
          ],
          "contourcarpet": [
           {
            "colorbar": {
             "outlinewidth": 0,
             "ticks": ""
            },
            "type": "contourcarpet"
           }
          ],
          "heatmap": [
           {
            "colorbar": {
             "outlinewidth": 0,
             "ticks": ""
            },
            "colorscale": [
             [
              0,
              "#0d0887"
             ],
             [
              0.1111111111111111,
              "#46039f"
             ],
             [
              0.2222222222222222,
              "#7201a8"
             ],
             [
              0.3333333333333333,
              "#9c179e"
             ],
             [
              0.4444444444444444,
              "#bd3786"
             ],
             [
              0.5555555555555556,
              "#d8576b"
             ],
             [
              0.6666666666666666,
              "#ed7953"
             ],
             [
              0.7777777777777778,
              "#fb9f3a"
             ],
             [
              0.8888888888888888,
              "#fdca26"
             ],
             [
              1,
              "#f0f921"
             ]
            ],
            "type": "heatmap"
           }
          ],
          "histogram": [
           {
            "marker": {
             "pattern": {
              "fillmode": "overlay",
              "size": 10,
              "solidity": 0.2
             }
            },
            "type": "histogram"
           }
          ],
          "histogram2d": [
           {
            "colorbar": {
             "outlinewidth": 0,
             "ticks": ""
            },
            "colorscale": [
             [
              0,
              "#0d0887"
             ],
             [
              0.1111111111111111,
              "#46039f"
             ],
             [
              0.2222222222222222,
              "#7201a8"
             ],
             [
              0.3333333333333333,
              "#9c179e"
             ],
             [
              0.4444444444444444,
              "#bd3786"
             ],
             [
              0.5555555555555556,
              "#d8576b"
             ],
             [
              0.6666666666666666,
              "#ed7953"
             ],
             [
              0.7777777777777778,
              "#fb9f3a"
             ],
             [
              0.8888888888888888,
              "#fdca26"
             ],
             [
              1,
              "#f0f921"
             ]
            ],
            "type": "histogram2d"
           }
          ],
          "histogram2dcontour": [
           {
            "colorbar": {
             "outlinewidth": 0,
             "ticks": ""
            },
            "colorscale": [
             [
              0,
              "#0d0887"
             ],
             [
              0.1111111111111111,
              "#46039f"
             ],
             [
              0.2222222222222222,
              "#7201a8"
             ],
             [
              0.3333333333333333,
              "#9c179e"
             ],
             [
              0.4444444444444444,
              "#bd3786"
             ],
             [
              0.5555555555555556,
              "#d8576b"
             ],
             [
              0.6666666666666666,
              "#ed7953"
             ],
             [
              0.7777777777777778,
              "#fb9f3a"
             ],
             [
              0.8888888888888888,
              "#fdca26"
             ],
             [
              1,
              "#f0f921"
             ]
            ],
            "type": "histogram2dcontour"
           }
          ],
          "mesh3d": [
           {
            "colorbar": {
             "outlinewidth": 0,
             "ticks": ""
            },
            "type": "mesh3d"
           }
          ],
          "parcoords": [
           {
            "line": {
             "colorbar": {
              "outlinewidth": 0,
              "ticks": ""
             }
            },
            "type": "parcoords"
           }
          ],
          "pie": [
           {
            "automargin": true,
            "type": "pie"
           }
          ],
          "scatter": [
           {
            "fillpattern": {
             "fillmode": "overlay",
             "size": 10,
             "solidity": 0.2
            },
            "type": "scatter"
           }
          ],
          "scatter3d": [
           {
            "line": {
             "colorbar": {
              "outlinewidth": 0,
              "ticks": ""
             }
            },
            "marker": {
             "colorbar": {
              "outlinewidth": 0,
              "ticks": ""
             }
            },
            "type": "scatter3d"
           }
          ],
          "scattercarpet": [
           {
            "marker": {
             "colorbar": {
              "outlinewidth": 0,
              "ticks": ""
             }
            },
            "type": "scattercarpet"
           }
          ],
          "scattergeo": [
           {
            "marker": {
             "colorbar": {
              "outlinewidth": 0,
              "ticks": ""
             }
            },
            "type": "scattergeo"
           }
          ],
          "scattergl": [
           {
            "marker": {
             "colorbar": {
              "outlinewidth": 0,
              "ticks": ""
             }
            },
            "type": "scattergl"
           }
          ],
          "scattermap": [
           {
            "marker": {
             "colorbar": {
              "outlinewidth": 0,
              "ticks": ""
             }
            },
            "type": "scattermap"
           }
          ],
          "scattermapbox": [
           {
            "marker": {
             "colorbar": {
              "outlinewidth": 0,
              "ticks": ""
             }
            },
            "type": "scattermapbox"
           }
          ],
          "scatterpolar": [
           {
            "marker": {
             "colorbar": {
              "outlinewidth": 0,
              "ticks": ""
             }
            },
            "type": "scatterpolar"
           }
          ],
          "scatterpolargl": [
           {
            "marker": {
             "colorbar": {
              "outlinewidth": 0,
              "ticks": ""
             }
            },
            "type": "scatterpolargl"
           }
          ],
          "scatterternary": [
           {
            "marker": {
             "colorbar": {
              "outlinewidth": 0,
              "ticks": ""
             }
            },
            "type": "scatterternary"
           }
          ],
          "surface": [
           {
            "colorbar": {
             "outlinewidth": 0,
             "ticks": ""
            },
            "colorscale": [
             [
              0,
              "#0d0887"
             ],
             [
              0.1111111111111111,
              "#46039f"
             ],
             [
              0.2222222222222222,
              "#7201a8"
             ],
             [
              0.3333333333333333,
              "#9c179e"
             ],
             [
              0.4444444444444444,
              "#bd3786"
             ],
             [
              0.5555555555555556,
              "#d8576b"
             ],
             [
              0.6666666666666666,
              "#ed7953"
             ],
             [
              0.7777777777777778,
              "#fb9f3a"
             ],
             [
              0.8888888888888888,
              "#fdca26"
             ],
             [
              1,
              "#f0f921"
             ]
            ],
            "type": "surface"
           }
          ],
          "table": [
           {
            "cells": {
             "fill": {
              "color": "#EBF0F8"
             },
             "line": {
              "color": "white"
             }
            },
            "header": {
             "fill": {
              "color": "#C8D4E3"
             },
             "line": {
              "color": "white"
             }
            },
            "type": "table"
           }
          ]
         },
         "layout": {
          "annotationdefaults": {
           "arrowcolor": "#2a3f5f",
           "arrowhead": 0,
           "arrowwidth": 1
          },
          "autotypenumbers": "strict",
          "coloraxis": {
           "colorbar": {
            "outlinewidth": 0,
            "ticks": ""
           }
          },
          "colorscale": {
           "diverging": [
            [
             0,
             "#8e0152"
            ],
            [
             0.1,
             "#c51b7d"
            ],
            [
             0.2,
             "#de77ae"
            ],
            [
             0.3,
             "#f1b6da"
            ],
            [
             0.4,
             "#fde0ef"
            ],
            [
             0.5,
             "#f7f7f7"
            ],
            [
             0.6,
             "#e6f5d0"
            ],
            [
             0.7,
             "#b8e186"
            ],
            [
             0.8,
             "#7fbc41"
            ],
            [
             0.9,
             "#4d9221"
            ],
            [
             1,
             "#276419"
            ]
           ],
           "sequential": [
            [
             0,
             "#0d0887"
            ],
            [
             0.1111111111111111,
             "#46039f"
            ],
            [
             0.2222222222222222,
             "#7201a8"
            ],
            [
             0.3333333333333333,
             "#9c179e"
            ],
            [
             0.4444444444444444,
             "#bd3786"
            ],
            [
             0.5555555555555556,
             "#d8576b"
            ],
            [
             0.6666666666666666,
             "#ed7953"
            ],
            [
             0.7777777777777778,
             "#fb9f3a"
            ],
            [
             0.8888888888888888,
             "#fdca26"
            ],
            [
             1,
             "#f0f921"
            ]
           ],
           "sequentialminus": [
            [
             0,
             "#0d0887"
            ],
            [
             0.1111111111111111,
             "#46039f"
            ],
            [
             0.2222222222222222,
             "#7201a8"
            ],
            [
             0.3333333333333333,
             "#9c179e"
            ],
            [
             0.4444444444444444,
             "#bd3786"
            ],
            [
             0.5555555555555556,
             "#d8576b"
            ],
            [
             0.6666666666666666,
             "#ed7953"
            ],
            [
             0.7777777777777778,
             "#fb9f3a"
            ],
            [
             0.8888888888888888,
             "#fdca26"
            ],
            [
             1,
             "#f0f921"
            ]
           ]
          },
          "colorway": [
           "#636efa",
           "#EF553B",
           "#00cc96",
           "#ab63fa",
           "#FFA15A",
           "#19d3f3",
           "#FF6692",
           "#B6E880",
           "#FF97FF",
           "#FECB52"
          ],
          "font": {
           "color": "#2a3f5f"
          },
          "geo": {
           "bgcolor": "white",
           "lakecolor": "white",
           "landcolor": "#E5ECF6",
           "showlakes": true,
           "showland": true,
           "subunitcolor": "white"
          },
          "hoverlabel": {
           "align": "left"
          },
          "hovermode": "closest",
          "mapbox": {
           "style": "light"
          },
          "paper_bgcolor": "white",
          "plot_bgcolor": "#E5ECF6",
          "polar": {
           "angularaxis": {
            "gridcolor": "white",
            "linecolor": "white",
            "ticks": ""
           },
           "bgcolor": "#E5ECF6",
           "radialaxis": {
            "gridcolor": "white",
            "linecolor": "white",
            "ticks": ""
           }
          },
          "scene": {
           "xaxis": {
            "backgroundcolor": "#E5ECF6",
            "gridcolor": "white",
            "gridwidth": 2,
            "linecolor": "white",
            "showbackground": true,
            "ticks": "",
            "zerolinecolor": "white"
           },
           "yaxis": {
            "backgroundcolor": "#E5ECF6",
            "gridcolor": "white",
            "gridwidth": 2,
            "linecolor": "white",
            "showbackground": true,
            "ticks": "",
            "zerolinecolor": "white"
           },
           "zaxis": {
            "backgroundcolor": "#E5ECF6",
            "gridcolor": "white",
            "gridwidth": 2,
            "linecolor": "white",
            "showbackground": true,
            "ticks": "",
            "zerolinecolor": "white"
           }
          },
          "shapedefaults": {
           "line": {
            "color": "#2a3f5f"
           }
          },
          "ternary": {
           "aaxis": {
            "gridcolor": "white",
            "linecolor": "white",
            "ticks": ""
           },
           "baxis": {
            "gridcolor": "white",
            "linecolor": "white",
            "ticks": ""
           },
           "bgcolor": "#E5ECF6",
           "caxis": {
            "gridcolor": "white",
            "linecolor": "white",
            "ticks": ""
           }
          },
          "title": {
           "x": 0.05
          },
          "xaxis": {
           "automargin": true,
           "gridcolor": "white",
           "linecolor": "white",
           "ticks": "",
           "title": {
            "standoff": 15
           },
           "zerolinecolor": "white",
           "zerolinewidth": 2
          },
          "yaxis": {
           "automargin": true,
           "gridcolor": "white",
           "linecolor": "white",
           "ticks": "",
           "title": {
            "standoff": 15
           },
           "zerolinecolor": "white",
           "zerolinewidth": 2
          }
         }
        }
       }
      }
     },
     "metadata": {},
     "output_type": "display_data"
    }
   ],
   "source": [
    "import plotly.graph_objects as go\n",
    "import numpy as np\n",
    "\n",
    "randu.resize(1670, 3)\n",
    "\n",
    "fig = go.Figure(data=[go.Scatter3d(x=randu[:,0], y=randu[:,1], z=randu[:,2],\n",
    "                                   mode='markers',\n",
    "                                  marker=dict(size=2))])\n",
    "fig.show()"
   ]
  },
  {
   "cell_type": "markdown",
   "id": "07afff2a",
   "metadata": {},
   "source": [
    "You can alter your perspective on this image using the mouse.  From a particular perspective you can see that something has gone horribly wrong ... **RANDU is a really ugly LCG**. \n",
    "\n",
    "The above generators are of low quality for producing pseudo-random numbers to drive statistical simulations. We end with a positive note with a LCG that is in use in the Gnu Compiler Collection. It does not have obvious problems as in small periods or as high a correlation as RANDU. "
   ]
  },
  {
   "cell_type": "code",
   "execution_count": 63,
   "id": "7d5ee421",
   "metadata": {
    "scrolled": false
   },
   "outputs": [
    {
     "data": {
      "application/vnd.plotly.v1+json": {
       "config": {
        "plotlyServerURL": "https://plot.ly"
       },
       "data": [
        {
         "marker": {
          "size": 2
         },
         "mode": "markers",
         "type": "scatter3d",
         "x": {
          "bdata": "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",
          "dtype": "f8"
         },
         "y": {
          "bdata": "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",
          "dtype": "f8"
         },
         "z": {
          "bdata": "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",
          "dtype": "f8"
         }
        }
       ],
       "layout": {
        "template": {
         "data": {
          "bar": [
           {
            "error_x": {
             "color": "#2a3f5f"
            },
            "error_y": {
             "color": "#2a3f5f"
            },
            "marker": {
             "line": {
              "color": "#E5ECF6",
              "width": 0.5
             },
             "pattern": {
              "fillmode": "overlay",
              "size": 10,
              "solidity": 0.2
             }
            },
            "type": "bar"
           }
          ],
          "barpolar": [
           {
            "marker": {
             "line": {
              "color": "#E5ECF6",
              "width": 0.5
             },
             "pattern": {
              "fillmode": "overlay",
              "size": 10,
              "solidity": 0.2
             }
            },
            "type": "barpolar"
           }
          ],
          "carpet": [
           {
            "aaxis": {
             "endlinecolor": "#2a3f5f",
             "gridcolor": "white",
             "linecolor": "white",
             "minorgridcolor": "white",
             "startlinecolor": "#2a3f5f"
            },
            "baxis": {
             "endlinecolor": "#2a3f5f",
             "gridcolor": "white",
             "linecolor": "white",
             "minorgridcolor": "white",
             "startlinecolor": "#2a3f5f"
            },
            "type": "carpet"
           }
          ],
          "choropleth": [
           {
            "colorbar": {
             "outlinewidth": 0,
             "ticks": ""
            },
            "type": "choropleth"
           }
          ],
          "contour": [
           {
            "colorbar": {
             "outlinewidth": 0,
             "ticks": ""
            },
            "colorscale": [
             [
              0,
              "#0d0887"
             ],
             [
              0.1111111111111111,
              "#46039f"
             ],
             [
              0.2222222222222222,
              "#7201a8"
             ],
             [
              0.3333333333333333,
              "#9c179e"
             ],
             [
              0.4444444444444444,
              "#bd3786"
             ],
             [
              0.5555555555555556,
              "#d8576b"
             ],
             [
              0.6666666666666666,
              "#ed7953"
             ],
             [
              0.7777777777777778,
              "#fb9f3a"
             ],
             [
              0.8888888888888888,
              "#fdca26"
             ],
             [
              1,
              "#f0f921"
             ]
            ],
            "type": "contour"
           }
          ],
          "contourcarpet": [
           {
            "colorbar": {
             "outlinewidth": 0,
             "ticks": ""
            },
            "type": "contourcarpet"
           }
          ],
          "heatmap": [
           {
            "colorbar": {
             "outlinewidth": 0,
             "ticks": ""
            },
            "colorscale": [
             [
              0,
              "#0d0887"
             ],
             [
              0.1111111111111111,
              "#46039f"
             ],
             [
              0.2222222222222222,
              "#7201a8"
             ],
             [
              0.3333333333333333,
              "#9c179e"
             ],
             [
              0.4444444444444444,
              "#bd3786"
             ],
             [
              0.5555555555555556,
              "#d8576b"
             ],
             [
              0.6666666666666666,
              "#ed7953"
             ],
             [
              0.7777777777777778,
              "#fb9f3a"
             ],
             [
              0.8888888888888888,
              "#fdca26"
             ],
             [
              1,
              "#f0f921"
             ]
            ],
            "type": "heatmap"
           }
          ],
          "histogram": [
           {
            "marker": {
             "pattern": {
              "fillmode": "overlay",
              "size": 10,
              "solidity": 0.2
             }
            },
            "type": "histogram"
           }
          ],
          "histogram2d": [
           {
            "colorbar": {
             "outlinewidth": 0,
             "ticks": ""
            },
            "colorscale": [
             [
              0,
              "#0d0887"
             ],
             [
              0.1111111111111111,
              "#46039f"
             ],
             [
              0.2222222222222222,
              "#7201a8"
             ],
             [
              0.3333333333333333,
              "#9c179e"
             ],
             [
              0.4444444444444444,
              "#bd3786"
             ],
             [
              0.5555555555555556,
              "#d8576b"
             ],
             [
              0.6666666666666666,
              "#ed7953"
             ],
             [
              0.7777777777777778,
              "#fb9f3a"
             ],
             [
              0.8888888888888888,
              "#fdca26"
             ],
             [
              1,
              "#f0f921"
             ]
            ],
            "type": "histogram2d"
           }
          ],
          "histogram2dcontour": [
           {
            "colorbar": {
             "outlinewidth": 0,
             "ticks": ""
            },
            "colorscale": [
             [
              0,
              "#0d0887"
             ],
             [
              0.1111111111111111,
              "#46039f"
             ],
             [
              0.2222222222222222,
              "#7201a8"
             ],
             [
              0.3333333333333333,
              "#9c179e"
             ],
             [
              0.4444444444444444,
              "#bd3786"
             ],
             [
              0.5555555555555556,
              "#d8576b"
             ],
             [
              0.6666666666666666,
              "#ed7953"
             ],
             [
              0.7777777777777778,
              "#fb9f3a"
             ],
             [
              0.8888888888888888,
              "#fdca26"
             ],
             [
              1,
              "#f0f921"
             ]
            ],
            "type": "histogram2dcontour"
           }
          ],
          "mesh3d": [
           {
            "colorbar": {
             "outlinewidth": 0,
             "ticks": ""
            },
            "type": "mesh3d"
           }
          ],
          "parcoords": [
           {
            "line": {
             "colorbar": {
              "outlinewidth": 0,
              "ticks": ""
             }
            },
            "type": "parcoords"
           }
          ],
          "pie": [
           {
            "automargin": true,
            "type": "pie"
           }
          ],
          "scatter": [
           {
            "fillpattern": {
             "fillmode": "overlay",
             "size": 10,
             "solidity": 0.2
            },
            "type": "scatter"
           }
          ],
          "scatter3d": [
           {
            "line": {
             "colorbar": {
              "outlinewidth": 0,
              "ticks": ""
             }
            },
            "marker": {
             "colorbar": {
              "outlinewidth": 0,
              "ticks": ""
             }
            },
            "type": "scatter3d"
           }
          ],
          "scattercarpet": [
           {
            "marker": {
             "colorbar": {
              "outlinewidth": 0,
              "ticks": ""
             }
            },
            "type": "scattercarpet"
           }
          ],
          "scattergeo": [
           {
            "marker": {
             "colorbar": {
              "outlinewidth": 0,
              "ticks": ""
             }
            },
            "type": "scattergeo"
           }
          ],
          "scattergl": [
           {
            "marker": {
             "colorbar": {
              "outlinewidth": 0,
              "ticks": ""
             }
            },
            "type": "scattergl"
           }
          ],
          "scattermap": [
           {
            "marker": {
             "colorbar": {
              "outlinewidth": 0,
              "ticks": ""
             }
            },
            "type": "scattermap"
           }
          ],
          "scattermapbox": [
           {
            "marker": {
             "colorbar": {
              "outlinewidth": 0,
              "ticks": ""
             }
            },
            "type": "scattermapbox"
           }
          ],
          "scatterpolar": [
           {
            "marker": {
             "colorbar": {
              "outlinewidth": 0,
              "ticks": ""
             }
            },
            "type": "scatterpolar"
           }
          ],
          "scatterpolargl": [
           {
            "marker": {
             "colorbar": {
              "outlinewidth": 0,
              "ticks": ""
             }
            },
            "type": "scatterpolargl"
           }
          ],
          "scatterternary": [
           {
            "marker": {
             "colorbar": {
              "outlinewidth": 0,
              "ticks": ""
             }
            },
            "type": "scatterternary"
           }
          ],
          "surface": [
           {
            "colorbar": {
             "outlinewidth": 0,
             "ticks": ""
            },
            "colorscale": [
             [
              0,
              "#0d0887"
             ],
             [
              0.1111111111111111,
              "#46039f"
             ],
             [
              0.2222222222222222,
              "#7201a8"
             ],
             [
              0.3333333333333333,
              "#9c179e"
             ],
             [
              0.4444444444444444,
              "#bd3786"
             ],
             [
              0.5555555555555556,
              "#d8576b"
             ],
             [
              0.6666666666666666,
              "#ed7953"
             ],
             [
              0.7777777777777778,
              "#fb9f3a"
             ],
             [
              0.8888888888888888,
              "#fdca26"
             ],
             [
              1,
              "#f0f921"
             ]
            ],
            "type": "surface"
           }
          ],
          "table": [
           {
            "cells": {
             "fill": {
              "color": "#EBF0F8"
             },
             "line": {
              "color": "white"
             }
            },
            "header": {
             "fill": {
              "color": "#C8D4E3"
             },
             "line": {
              "color": "white"
             }
            },
            "type": "table"
           }
          ]
         },
         "layout": {
          "annotationdefaults": {
           "arrowcolor": "#2a3f5f",
           "arrowhead": 0,
           "arrowwidth": 1
          },
          "autotypenumbers": "strict",
          "coloraxis": {
           "colorbar": {
            "outlinewidth": 0,
            "ticks": ""
           }
          },
          "colorscale": {
           "diverging": [
            [
             0,
             "#8e0152"
            ],
            [
             0.1,
             "#c51b7d"
            ],
            [
             0.2,
             "#de77ae"
            ],
            [
             0.3,
             "#f1b6da"
            ],
            [
             0.4,
             "#fde0ef"
            ],
            [
             0.5,
             "#f7f7f7"
            ],
            [
             0.6,
             "#e6f5d0"
            ],
            [
             0.7,
             "#b8e186"
            ],
            [
             0.8,
             "#7fbc41"
            ],
            [
             0.9,
             "#4d9221"
            ],
            [
             1,
             "#276419"
            ]
           ],
           "sequential": [
            [
             0,
             "#0d0887"
            ],
            [
             0.1111111111111111,
             "#46039f"
            ],
            [
             0.2222222222222222,
             "#7201a8"
            ],
            [
             0.3333333333333333,
             "#9c179e"
            ],
            [
             0.4444444444444444,
             "#bd3786"
            ],
            [
             0.5555555555555556,
             "#d8576b"
            ],
            [
             0.6666666666666666,
             "#ed7953"
            ],
            [
             0.7777777777777778,
             "#fb9f3a"
            ],
            [
             0.8888888888888888,
             "#fdca26"
            ],
            [
             1,
             "#f0f921"
            ]
           ],
           "sequentialminus": [
            [
             0,
             "#0d0887"
            ],
            [
             0.1111111111111111,
             "#46039f"
            ],
            [
             0.2222222222222222,
             "#7201a8"
            ],
            [
             0.3333333333333333,
             "#9c179e"
            ],
            [
             0.4444444444444444,
             "#bd3786"
            ],
            [
             0.5555555555555556,
             "#d8576b"
            ],
            [
             0.6666666666666666,
             "#ed7953"
            ],
            [
             0.7777777777777778,
             "#fb9f3a"
            ],
            [
             0.8888888888888888,
             "#fdca26"
            ],
            [
             1,
             "#f0f921"
            ]
           ]
          },
          "colorway": [
           "#636efa",
           "#EF553B",
           "#00cc96",
           "#ab63fa",
           "#FFA15A",
           "#19d3f3",
           "#FF6692",
           "#B6E880",
           "#FF97FF",
           "#FECB52"
          ],
          "font": {
           "color": "#2a3f5f"
          },
          "geo": {
           "bgcolor": "white",
           "lakecolor": "white",
           "landcolor": "#E5ECF6",
           "showlakes": true,
           "showland": true,
           "subunitcolor": "white"
          },
          "hoverlabel": {
           "align": "left"
          },
          "hovermode": "closest",
          "mapbox": {
           "style": "light"
          },
          "paper_bgcolor": "white",
          "plot_bgcolor": "#E5ECF6",
          "polar": {
           "angularaxis": {
            "gridcolor": "white",
            "linecolor": "white",
            "ticks": ""
           },
           "bgcolor": "#E5ECF6",
           "radialaxis": {
            "gridcolor": "white",
            "linecolor": "white",
            "ticks": ""
           }
          },
          "scene": {
           "xaxis": {
            "backgroundcolor": "#E5ECF6",
            "gridcolor": "white",
            "gridwidth": 2,
            "linecolor": "white",
            "showbackground": true,
            "ticks": "",
            "zerolinecolor": "white"
           },
           "yaxis": {
            "backgroundcolor": "#E5ECF6",
            "gridcolor": "white",
            "gridwidth": 2,
            "linecolor": "white",
            "showbackground": true,
            "ticks": "",
            "zerolinecolor": "white"
           },
           "zaxis": {
            "backgroundcolor": "#E5ECF6",
            "gridcolor": "white",
            "gridwidth": 2,
            "linecolor": "white",
            "showbackground": true,
            "ticks": "",
            "zerolinecolor": "white"
           }
          },
          "shapedefaults": {
           "line": {
            "color": "#2a3f5f"
           }
          },
          "ternary": {
           "aaxis": {
            "gridcolor": "white",
            "linecolor": "white",
            "ticks": ""
           },
           "baxis": {
            "gridcolor": "white",
            "linecolor": "white",
            "ticks": ""
           },
           "bgcolor": "#E5ECF6",
           "caxis": {
            "gridcolor": "white",
            "linecolor": "white",
            "ticks": ""
           }
          },
          "title": {
           "x": 0.05
          },
          "xaxis": {
           "automargin": true,
           "gridcolor": "white",
           "linecolor": "white",
           "ticks": "",
           "title": {
            "standoff": 15
           },
           "zerolinecolor": "white",
           "zerolinewidth": 2
          },
          "yaxis": {
           "automargin": true,
           "gridcolor": "white",
           "linecolor": "white",
           "ticks": "",
           "title": {
            "standoff": 15
           },
           "zerolinecolor": "white",
           "zerolinewidth": 2
          }
         }
        }
       }
      }
     },
     "metadata": {},
     "output_type": "display_data"
    }
   ],
   "source": [
    "#jmol error JmolInitCheck is not defined\n",
    "glibCGCCLcg = np.array([x/2**32 for x in linConGen(2**32, 1103515245,12345,13,5010)])\n",
    "glibCGCCLcg.resize(1670, 3) # resize the randu array to 3 columns\n",
    "fig = go.Figure(data=[go.Scatter3d(x=glibCGCCLcg[:,0], y=glibCGCCLcg[:,1], z=glibCGCCLcg[:,2],\n",
    "                                   mode='markers',\n",
    "                                  marker=dict(size=2))])\n",
    "fig.show()"
   ]
  },
  {
   "cell_type": "code",
   "execution_count": 64,
   "id": "aab3e5a6",
   "metadata": {
    "scrolled": true
   },
   "outputs": [
    {
     "data": {
      "image/png": "[encoded data removed]",
      "text/plain": [
       "<Figure size 640x480 with 1 Axes>"
      ]
     },
     "metadata": {},
     "output_type": "display_data"
    }
   ],
   "source": [
    "glibCGCCLcg = np.array([x/(2**32) for x in linConGen(2**32, 1103515245,12345,13,5010)])\n",
    "_=plt.hist(glibCGCCLcg,bins=40)"
   ]
  },
  {
   "cell_type": "markdown",
   "id": "17f25e6e",
   "metadata": {},
   "source": [
    "**Even good LCG are not suited for realistic statistical simulation problems**. \n",
    "\n",
    "This is because of the strong correlation between successive numbers in the sequence. For instance, if an LCG is used to choose points in an n-dimensional space, the points will lie on, at most, $m^{1/n}$ hyper-planes. There are various statistical tests that one can use to test the quality of a pseudo-random number generator. For example, the spectral test checks if the points are not on a few hyper-planes. Of course, the Sample Mean, Sample Variance, etc. should be as expected. Let us check those quickly:\n",
    "\n",
    "Recall that the population mean for a Uniform$(0,1)$ RV is $\\frac{1}{2}$ and the population variance is $\\frac{1}{12}$."
   ]
  },
  {
   "cell_type": "code",
   "execution_count": 65,
   "id": "90ed9201",
   "metadata": {
    "scrolled": true
   },
   "outputs": [
    {
     "data": {
      "text/plain": [
       "np.float64(0.49233286396638415)"
      ]
     },
     "execution_count": 65,
     "metadata": {},
     "output_type": "execute_result"
    }
   ],
   "source": [
    "glibCGCCLcg.mean()  \n",
    "# check that the mean is close to the population mean of 0.5 for Uniform(0,1) RV"
   ]
  },
  {
   "cell_type": "code",
   "execution_count": 66,
   "id": "74f95f16",
   "metadata": {
    "scrolled": true
   },
   "outputs": [
    {
     "data": {
      "text/plain": [
       "np.float64(0.0824478544096861)"
      ]
     },
     "execution_count": 66,
     "metadata": {},
     "output_type": "execute_result"
    }
   ],
   "source": [
    "glibCGCCLcg.var()   # how about the variance"
   ]
  },
  {
   "cell_type": "code",
   "execution_count": 67,
   "id": "94b0541a",
   "metadata": {
    "scrolled": true
   },
   "outputs": [
    {
     "data": {
      "text/plain": [
       "0.08333333333333333"
      ]
     },
     "execution_count": 67,
     "metadata": {},
     "output_type": "execute_result"
    }
   ],
   "source": [
    "1/12.0"
   ]
  },
  {
   "cell_type": "markdown",
   "id": "5b061a14",
   "metadata": {},
   "source": [
    "To go into this topic of how good a pseudo-random number generaror is and what \"good\" means in many different mathematical senses (in detail) is clearly beyond the scope of this course. You should just remember that using computers to generate pseudo-random numbers is not a trivial problem and use care when employing them especially in higher dimensional or less smooth problems. The mathematics behind this has one of the most beautiful roots of the subject called number theory."
   ]
  },
  {
   "cell_type": "markdown",
   "id": "54487bdc",
   "metadata": {},
   "source": [
    "### More Sophisticated Pseudo-Random Number Generators\n",
    "\n",
    "We will use a pseudo-random number generator (PRNG) called the Mersenne Twister for simulation purposes in this course.  It is based on more sophisticated theory than that of LCG but the basic principles of recurrence relations are the same. \n",
    "\n",
    "(The Mersenne Twister is a variant of the recursive relation known as a twisted generalised feedback register.  See *Makato Matsumoto and Takuji Nishimura, \"Mersenne Twister: A 623-dimensionally equidistributed uniform pseudo-random number generator, ACM Transactions on Modelling and Computer Simulation, vol. 8, no. 1, Jan. 1998, pp. 3-20.* if you have ACM access or via links at [Mersenne Twister](https://en.wikipedia.org/wiki/Mersenne_twister).\n",
    "\n",
    "The Mersenne Twister has a period of $2^{19937}-1 \\approx 10^{6000}$ (which is essentially a Very Big Number) and is currently widely used by researchers interested in statistical simulation.  "
   ]
  },
  {
   "cell_type": "code",
   "execution_count": 4,
   "id": "0199b761",
   "metadata": {
    "scrolled": true
   },
   "outputs": [
    {
     "ename": "NameError",
     "evalue": "name 'showURL' is not defined",
     "output_type": "error",
     "traceback": [
      "\u001b[0;31m---------------------------------------------------------------------------\u001b[0m",
      "\u001b[0;31mNameError\u001b[0m                                 Traceback (most recent call last)",
      "Cell \u001b[0;32mIn[4], line 1\u001b[0m\n\u001b[0;32m----> 1\u001b[0m \u001b[43mshowURL\u001b[49m(\u001b[38;5;124m\"\u001b[39m\u001b[38;5;124mhttps://en.wikipedia.org/wiki/Mersenne_twister\u001b[39m\u001b[38;5;124m\"\u001b[39m,\u001b[38;5;241m500\u001b[39m) \n\u001b[1;32m      2\u001b[0m \u001b[38;5;66;03m# scroll down to see the list of Software that use Mersenne Twister as the default PRNG, including Python\u001b[39;00m\n",
      "\u001b[0;31mNameError\u001b[0m: name 'showURL' is not defined"
     ]
    }
   ],
   "source": [
    "showURL(\"https://en.wikipedia.org/wiki/Mersenne_twister\",500) \n",
    "# scroll down to see the list of Software that use Mersenne Twister as the default PRNG, including Python"
   ]
  },
  {
   "cell_type": "code",
   "execution_count": 69,
   "id": "a70cc01b",
   "metadata": {
    "scrolled": true
   },
   "outputs": [
    {
     "name": "stdout",
     "output_type": "stream",
     "text": [
      "\u001b[0;31mType:\u001b[0m        module\n",
      "\u001b[0;31mString form:\u001b[0m <module 'random' from '/usr/local/Caskroom/miniconda/base/envs/ITDS2025/lib/python3.11/random.py'>\n",
      "\u001b[0;31mFile:\u001b[0m        /usr/local/Caskroom/miniconda/base/envs/ITDS2025/lib/python3.11/random.py\n",
      "\u001b[0;31mDocstring:\u001b[0m  \n",
      "Random variable generators.\n",
      "\n",
      "    bytes\n",
      "    -----\n",
      "           uniform bytes (values between 0 and 255)\n",
      "\n",
      "    integers\n",
      "    --------\n",
      "           uniform within range\n",
      "\n",
      "    sequences\n",
      "    ---------\n",
      "           pick random element\n",
      "           pick random sample\n",
      "           pick weighted random sample\n",
      "           generate random permutation\n",
      "\n",
      "    distributions on the real line:\n",
      "    ------------------------------\n",
      "           uniform\n",
      "           triangular\n",
      "           normal (Gaussian)\n",
      "           lognormal\n",
      "           negative exponential\n",
      "           gamma\n",
      "           beta\n",
      "           pareto\n",
      "           Weibull\n",
      "\n",
      "    distributions on the circle (angles 0 to 2pi)\n",
      "    ---------------------------------------------\n",
      "           circular uniform\n",
      "           von Mises\n",
      "\n",
      "General notes on the underlying Mersenne Twister core generator:\n",
      "\n",
      "* The period is 2**19937-1.\n",
      "* It is one of the most extensively tested generators in existence.\n",
      "* The random() method is implemented in C, executes in a single Python step,\n",
      "  and is, therefore, threadsafe."
     ]
    }
   ],
   "source": [
    "import random\n",
    "?random"
   ]
  },
  {
   "cell_type": "code",
   "execution_count": 1,
   "id": "cc16c086",
   "metadata": {
    "scrolled": true
   },
   "outputs": [
    {
     "name": "stdout",
     "output_type": "stream",
     "text": [
      "/usr/local/Caskroom/miniconda/base/envs/ITDS2025/lib/python3.11/random.py: Python script text executable, ASCII text\n"
     ]
    }
   ],
   "source": [
    "%%sh\n",
    "## make sure the file exists, the path to the source File for you may be different, \n",
    "## copy-paste `File:` </.../pathToFile../pyrandom.py` from above output \n",
    "## `file` gives information about a file. The source file should be `ASCII text executable`\n",
    "file /usr/local/Caskroom/miniconda/base/envs/ITDS2025/lib/python3.11/random.py"
   ]
  },
  {
   "cell_type": "code",
   "execution_count": 3,
   "id": "078ecf31",
   "metadata": {
    "scrolled": true
   },
   "outputs": [
    {
     "name": "stdout",
     "output_type": "stream",
     "text": [
      "\"\"\"Random variable generators.\n",
      "\n",
      "    bytes\n",
      "    -----\n",
      "           uniform bytes (values between 0 and 255)\n",
      "\n",
      "    integers\n",
      "    --------\n"
     ]
    },
    {
     "name": "stdout",
     "output_type": "stream",
     "text": [
      "           uniform within range\n",
      "\n",
      "    sequences\n",
      "    ---------\n",
      "           pick random element\n",
      "           pick random sample\n",
      "           pick weighted random sample\n",
      "           generate random permutation\n",
      "\n",
      "    distributions on the real line:\n",
      "    ------------------------------\n",
      "           uniform\n",
      "           triangular\n",
      "           normal (Gaussian)\n",
      "           lognormal\n",
      "           negative exponential\n",
      "           gamma\n",
      "           beta\n",
      "           pareto\n",
      "           Weibull\n",
      "\n",
      "    distributions on the circle (angles 0 to 2pi)\n",
      "    ---------------------------------------------\n",
      "           circular uniform\n",
      "           von Mises\n",
      "\n",
      "General notes on the underlying Mersenne Twister core generator:\n",
      "\n",
      "* The period is 2**19937-1.\n",
      "* It is one of the most extensively tested generators in existence.\n",
      "* The random() method is implemented in C, executes in a single Python step,\n",
      "  and is, therefore, threadsafe.\n",
      "\n",
      "\"\"\"\n",
      "\n",
      "# Translated by Guido van Rossum from C source provided by\n",
      "# Adrian Baddeley.  Adapted by Raymond Hettinger for use with\n",
      "# the Mersenne Twister  and os.urandom() core generators.\n",
      "\n",
      "from warnings import warn as _warn\n",
      "from math import log as _log, exp as _exp, pi as _pi, e as _e, ceil as _ceil\n",
      "from math import sqrt as _sqrt, acos as _acos, cos as _cos, sin as _sin\n",
      "from math import tau as TWOPI, floor as _floor, isfinite as _isfinite\n",
      "from os import urandom as _urandom\n",
      "from _collections_abc import Set as _Set, Sequence as _Sequence\n",
      "from operator import index as _index\n",
      "from itertools import accumulate as _accumulate, repeat as _repeat\n",
      "from bisect import bisect as _bisect\n",
      "import os as _os\n",
      "import _random\n",
      "\n",
      "try:\n",
      "    # hashlib is pretty heavy to load, try lean internal module first\n",
      "    from _sha512 import sha512 as _sha512\n",
      "except ImportError:\n",
      "    # fallback to official implementation\n",
      "    from hashlib import sha512 as _sha512\n",
      "\n",
      "__all__ = [\n",
      "    \"Random\",\n",
      "    \"SystemRandom\",\n",
      "    \"betavariate\",\n",
      "    \"choice\",\n",
      "    \"choices\",\n",
      "    \"expovariate\",\n",
      "    \"gammavariate\",\n",
      "    \"gauss\",\n",
      "    \"getrandbits\",\n",
      "    \"getstate\",\n",
      "    \"lognormvariate\",\n",
      "    \"normalvariate\",\n",
      "    \"paretovariate\",\n",
      "    \"randbytes\",\n",
      "    \"randint\",\n",
      "    \"random\",\n",
      "    \"randrange\",\n",
      "    \"sample\",\n",
      "    \"seed\",\n",
      "    \"setstate\",\n",
      "    \"shuffle\",\n",
      "    \"triangular\",\n",
      "    \"uniform\",\n",
      "    \"vonmisesvariate\",\n",
      "    \"weibullvariate\",\n",
      "]\n",
      "\n",
      "NV_MAGICCONST = 4 * _exp(-0.5) / _sqrt(2.0)\n",
      "LOG4 = _log(4.0)\n",
      "SG_MAGICCONST = 1.0 + _log(4.5)\n",
      "BPF = 53        # Number of bits in a float\n",
      "RECIP_BPF = 2 ** -BPF\n",
      "_ONE = 1\n",
      "\n",
      "\n",
      "class Random(_random.Random):\n",
      "    \"\"\"Random number generator base class used by bound module functions.\n",
      "\n",
      "    Used to instantiate instances of Random to get generators that don't\n",
      "    share state.\n",
      "\n",
      "    Class Random can also be subclassed if you want to use a different basic\n",
      "    generator of your own devising: in that case, override the following\n",
      "    methods:  random(), seed(), getstate(), and setstate().\n",
      "    Optionally, implement a getrandbits() method so that randrange()\n",
      "    can cover arbitrarily large ranges.\n",
      "\n",
      "    \"\"\"\n",
      "\n",
      "    VERSION = 3     # used by getstate/setstate\n",
      "\n",
      "    def __init__(self, x=None):\n",
      "        \"\"\"Initialize an instance.\n",
      "\n",
      "        Optional argument x controls seeding, as for Random.seed().\n",
      "        \"\"\"\n",
      "\n",
      "        self.seed(x)\n",
      "        self.gauss_next = None\n",
      "\n",
      "    def seed(self, a=None, version=2):\n",
      "        \"\"\"Initialize internal state from a seed.\n",
      "\n",
      "        The only supported seed types are None, int, float,\n",
      "        str, bytes, and bytearray.\n",
      "\n",
      "        None or no argument seeds from current time or from an operating\n",
      "        system specific randomness source if available.\n",
      "\n",
      "        If *a* is an int, all bits are used.\n",
      "\n",
      "        For version 2 (the default), all of the bits are used if *a* is a str,\n",
      "        bytes, or bytearray.  For version 1 (provided for reproducing random\n",
      "        sequences from older versions of Python), the algorithm for str and\n",
      "        bytes generates a narrower range of seeds.\n",
      "\n",
      "        \"\"\"\n",
      "\n",
      "        if version == 1 and isinstance(a, (str, bytes)):\n",
      "            a = a.decode('latin-1') if isinstance(a, bytes) else a\n",
      "            x = ord(a[0]) << 7 if a else 0\n",
      "            for c in map(ord, a):\n",
      "                x = ((1000003 * x) ^ c) & 0xFFFFFFFFFFFFFFFF\n",
      "            x ^= len(a)\n",
      "            a = -2 if x == -1 else x\n",
      "\n",
      "        elif version == 2 and isinstance(a, (str, bytes, bytearray)):\n",
      "            if isinstance(a, str):\n",
      "                a = a.encode()\n",
      "            a = int.from_bytes(a + _sha512(a).digest())\n",
      "\n",
      "        elif not isinstance(a, (type(None), int, float, str, bytes, bytearray)):\n",
      "            raise TypeError('The only supported seed types are: None,\\n'\n",
      "                            'int, float, str, bytes, and bytearray.')\n",
      "\n",
      "        super().seed(a)\n",
      "        self.gauss_next = None\n",
      "\n",
      "    def getstate(self):\n",
      "        \"\"\"Return internal state; can be passed to setstate() later.\"\"\"\n",
      "        return self.VERSION, super().getstate(), self.gauss_next\n",
      "\n",
      "    def setstate(self, state):\n",
      "        \"\"\"Restore internal state from object returned by getstate().\"\"\"\n",
      "        version = state[0]\n",
      "        if version == 3:\n",
      "            version, internalstate, self.gauss_next = state\n",
      "            super().setstate(internalstate)\n",
      "        elif version == 2:\n",
      "            version, internalstate, self.gauss_next = state\n",
      "            # In version 2, the state was saved as signed ints, which causes\n",
      "            #   inconsistencies between 32/64-bit systems. The state is\n",
      "            #   really unsigned 32-bit ints, so we convert negative ints from\n",
      "            #   version 2 to positive longs for version 3.\n",
      "            try:\n",
      "                internalstate = tuple(x % (2 ** 32) for x in internalstate)\n",
      "            except ValueError as e:\n",
      "                raise TypeError from e\n",
      "            super().setstate(internalstate)\n",
      "        else:\n",
      "            raise ValueError(\"state with version %s passed to \"\n",
      "                             \"Random.setstate() of version %s\" %\n",
      "                             (version, self.VERSION))\n",
      "\n",
      "\n",
      "    ## -------------------------------------------------------\n",
      "    ## ---- Methods below this point do not need to be overridden or extended\n",
      "    ## ---- when subclassing for the purpose of using a different core generator.\n",
      "\n",
      "\n",
      "    ## -------------------- pickle support  -------------------\n",
      "\n",
      "    # Issue 17489: Since __reduce__ was defined to fix #759889 this is no\n",
      "    # longer called; we leave it here because it has been here since random was\n",
      "    # rewritten back in 2001 and why risk breaking something.\n",
      "    def __getstate__(self):  # for pickle\n",
      "        return self.getstate()\n",
      "\n",
      "    def __setstate__(self, state):  # for pickle\n",
      "        self.setstate(state)\n",
      "\n",
      "    def __reduce__(self):\n",
      "        return self.__class__, (), self.getstate()\n",
      "\n",
      "\n",
      "    ## ---- internal support method for evenly distributed integers ----\n",
      "\n",
      "    def __init_subclass__(cls, /, **kwargs):\n",
      "        \"\"\"Control how subclasses generate random integers.\n",
      "\n",
      "        The algorithm a subclass can use depends on the random() and/or\n",
      "        getrandbits() implementation available to it and determines\n",
      "        whether it can generate random integers from arbitrarily large\n",
      "        ranges.\n",
      "        \"\"\"\n",
      "\n",
      "        for c in cls.__mro__:\n",
      "            if '_randbelow' in c.__dict__:\n",
      "                # just inherit it\n",
      "                break\n",
      "            if 'getrandbits' in c.__dict__:\n",
      "                cls._randbelow = cls._randbelow_with_getrandbits\n",
      "                break\n",
      "            if 'random' in c.__dict__:\n",
      "                cls._randbelow = cls._randbelow_without_getrandbits\n",
      "                break\n",
      "\n",
      "    def _randbelow_with_getrandbits(self, n):\n",
      "        \"Return a random int in the range [0,n).  Defined for n > 0.\"\n",
      "\n",
      "        getrandbits = self.getrandbits\n",
      "        k = n.bit_length()  # don't use (n-1) here because n can be 1\n",
      "        r = getrandbits(k)  # 0 <= r < 2**k\n",
      "        while r >= n:\n",
      "            r = getrandbits(k)\n",
      "        return r\n",
      "\n",
      "    def _randbelow_without_getrandbits(self, n, maxsize=1<<BPF):\n",
      "        \"\"\"Return a random int in the range [0,n).  Defined for n > 0.\n",
      "\n",
      "        The implementation does not use getrandbits, but only random.\n",
      "        \"\"\"\n",
      "\n",
      "        random = self.random\n",
      "        if n >= maxsize:\n",
      "            _warn(\"Underlying random() generator does not supply \\n\"\n",
      "                \"enough bits to choose from a population range this large.\\n\"\n",
      "                \"To remove the range limitation, add a getrandbits() method.\")\n",
      "            return _floor(random() * n)\n",
      "        rem = maxsize % n\n",
      "        limit = (maxsize - rem) / maxsize   # int(limit * maxsize) % n == 0\n",
      "        r = random()\n",
      "        while r >= limit:\n",
      "            r = random()\n",
      "        return _floor(r * maxsize) % n\n",
      "\n",
      "    _randbelow = _randbelow_with_getrandbits\n",
      "\n",
      "\n",
      "    ## --------------------------------------------------------\n",
      "    ## ---- Methods below this point generate custom distributions\n",
      "    ## ---- based on the methods defined above.  They do not\n",
      "    ## ---- directly touch the underlying generator and only\n",
      "    ## ---- access randomness through the methods:  random(),\n",
      "    ## ---- getrandbits(), or _randbelow().\n",
      "\n",
      "\n",
      "    ## -------------------- bytes methods ---------------------\n",
      "\n",
      "    def randbytes(self, n):\n",
      "        \"\"\"Generate n random bytes.\"\"\"\n",
      "        return self.getrandbits(n * 8).to_bytes(n, 'little')\n",
      "\n",
      "\n",
      "    ## -------------------- integer methods  -------------------\n",
      "\n",
      "    def randrange(self, start, stop=None, step=_ONE):\n",
      "        \"\"\"Choose a random item from range(stop) or range(start, stop[, step]).\n",
      "\n",
      "        Roughly equivalent to ``choice(range(start, stop, step))`` but\n",
      "        supports arbitrarily large ranges and is optimized for common cases.\n",
      "\n",
      "        \"\"\"\n",
      "\n",
      "        # This code is a bit messy to make it fast for the\n",
      "        # common case while still doing adequate error checking.\n",
      "        try:\n",
      "            istart = _index(start)\n",
      "        except TypeError:\n",
      "            istart = int(start)\n",
      "            if istart != start:\n",
      "                _warn('randrange() will raise TypeError in the future',\n",
      "                      DeprecationWarning, 2)\n",
      "                raise ValueError(\"non-integer arg 1 for randrange()\")\n",
      "            _warn('non-integer arguments to randrange() have been deprecated '\n",
      "                  'since Python 3.10 and will be removed in a subsequent '\n",
      "                  'version',\n",
      "                  DeprecationWarning, 2)\n",
      "        if stop is None:\n",
      "            # We don't check for \"step != 1\" because it hasn't been\n",
      "            # type checked and converted to an integer yet.\n",
      "            if step is not _ONE:\n",
      "                raise TypeError('Missing a non-None stop argument')\n",
      "            if istart > 0:\n",
      "                return self._randbelow(istart)\n",
      "            raise ValueError(\"empty range for randrange()\")\n",
      "\n",
      "        # stop argument supplied.\n",
      "        try:\n",
      "            istop = _index(stop)\n",
      "        except TypeError:\n",
      "            istop = int(stop)\n",
      "            if istop != stop:\n",
      "                _warn('randrange() will raise TypeError in the future',\n",
      "                      DeprecationWarning, 2)\n",
      "                raise ValueError(\"non-integer stop for randrange()\")\n",
      "            _warn('non-integer arguments to randrange() have been deprecated '\n",
      "                  'since Python 3.10 and will be removed in a subsequent '\n",
      "                  'version',\n",
      "                  DeprecationWarning, 2)\n",
      "        width = istop - istart\n",
      "        try:\n",
      "            istep = _index(step)\n",
      "        except TypeError:\n",
      "            istep = int(step)\n",
      "            if istep != step:\n",
      "                _warn('randrange() will raise TypeError in the future',\n",
      "                      DeprecationWarning, 2)\n",
      "                raise ValueError(\"non-integer step for randrange()\")\n",
      "            _warn('non-integer arguments to randrange() have been deprecated '\n",
      "                  'since Python 3.10 and will be removed in a subsequent '\n",
      "                  'version',\n",
      "                  DeprecationWarning, 2)\n",
      "        # Fast path.\n",
      "        if istep == 1:\n",
      "            if width > 0:\n",
      "                return istart + self._randbelow(width)\n",
      "            raise ValueError(\"empty range for randrange() (%d, %d, %d)\" % (istart, istop, width))\n",
      "\n",
      "        # Non-unit step argument supplied.\n",
      "        if istep > 0:\n",
      "            n = (width + istep - 1) // istep\n",
      "        elif istep < 0:\n",
      "            n = (width + istep + 1) // istep\n",
      "        else:\n",
      "            raise ValueError(\"zero step for randrange()\")\n",
      "        if n <= 0:\n",
      "            raise ValueError(\"empty range for randrange()\")\n",
      "        return istart + istep * self._randbelow(n)\n",
      "\n",
      "    def randint(self, a, b):\n",
      "        \"\"\"Return random integer in range [a, b], including both end points.\n",
      "        \"\"\"\n",
      "\n",
      "        return self.randrange(a, b+1)\n",
      "\n",
      "\n",
      "    ## -------------------- sequence methods  -------------------\n",
      "\n",
      "    def choice(self, seq):\n",
      "        \"\"\"Choose a random element from a non-empty sequence.\"\"\"\n",
      "\n",
      "        # As an accommodation for NumPy, we don't use \"if not seq\"\n",
      "        # because bool(numpy.array()) raises a ValueError.\n",
      "        if not len(seq):\n",
      "            raise IndexError('Cannot choose from an empty sequence')\n",
      "        return seq[self._randbelow(len(seq))]\n",
      "\n",
      "    def shuffle(self, x):\n",
      "        \"\"\"Shuffle list x in place, and return None.\"\"\"\n",
      "\n",
      "        randbelow = self._randbelow\n",
      "        for i in reversed(range(1, len(x))):\n",
      "            # pick an element in x[:i+1] with which to exchange x[i]\n",
      "            j = randbelow(i + 1)\n",
      "            x[i], x[j] = x[j], x[i]\n",
      "\n",
      "    def sample(self, population, k, *, counts=None):\n",
      "        \"\"\"Chooses k unique random elements from a population sequence.\n",
      "\n",
      "        Returns a new list containing elements from the population while\n",
      "        leaving the original population unchanged.  The resulting list is\n",
      "        in selection order so that all sub-slices will also be valid random\n",
      "        samples.  This allows raffle winners (the sample) to be partitioned\n",
      "        into grand prize and second place winners (the subslices).\n",
      "\n",
      "        Members of the population need not be hashable or unique.  If the\n",
      "        population contains repeats, then each occurrence is a possible\n",
      "        selection in the sample.\n",
      "\n",
      "        Repeated elements can be specified one at a time or with the optional\n",
      "        counts parameter.  For example:\n",
      "\n",
      "            sample(['red', 'blue'], counts=[4, 2], k=5)\n",
      "\n",
      "        is equivalent to:\n",
      "\n",
      "            sample(['red', 'red', 'red', 'red', 'blue', 'blue'], k=5)\n",
      "\n",
      "        To choose a sample from a range of integers, use range() for the\n",
      "        population argument.  This is especially fast and space efficient\n",
      "        for sampling from a large population:\n",
      "\n",
      "            sample(range(10000000), 60)\n",
      "\n",
      "        \"\"\"\n",
      "\n",
      "        # Sampling without replacement entails tracking either potential\n",
      "        # selections (the pool) in a list or previous selections in a set.\n",
      "\n",
      "        # When the number of selections is small compared to the\n",
      "        # population, then tracking selections is efficient, requiring\n",
      "        # only a small set and an occasional reselection.  For\n",
      "        # a larger number of selections, the pool tracking method is\n",
      "        # preferred since the list takes less space than the\n",
      "        # set and it doesn't suffer from frequent reselections.\n",
      "\n",
      "        # The number of calls to _randbelow() is kept at or near k, the\n",
      "        # theoretical minimum.  This is important because running time\n",
      "        # is dominated by _randbelow() and because it extracts the\n",
      "        # least entropy from the underlying random number generators.\n",
      "\n",
      "        # Memory requirements are kept to the smaller of a k-length\n",
      "        # set or an n-length list.\n",
      "\n",
      "        # There are other sampling algorithms that do not require\n",
      "        # auxiliary memory, but they were rejected because they made\n",
      "        # too many calls to _randbelow(), making them slower and\n",
      "        # causing them to eat more entropy than necessary.\n",
      "\n",
      "        if not isinstance(population, _Sequence):\n",
      "            raise TypeError(\"Population must be a sequence.  \"\n",
      "                            \"For dicts or sets, use sorted(d).\")\n",
      "        n = len(population)\n",
      "        if counts is not None:\n",
      "            cum_counts = list(_accumulate(counts))\n",
      "            if len(cum_counts) != n:\n",
      "                raise ValueError('The number of counts does not match the population')\n",
      "            total = cum_counts.pop()\n",
      "            if not isinstance(total, int):\n",
      "                raise TypeError('Counts must be integers')\n",
      "            if total <= 0:\n",
      "                raise ValueError('Total of counts must be greater than zero')\n",
      "            selections = self.sample(range(total), k=k)\n",
      "            bisect = _bisect\n",
      "            return [population[bisect(cum_counts, s)] for s in selections]\n",
      "        randbelow = self._randbelow\n",
      "        if not 0 <= k <= n:\n",
      "            raise ValueError(\"Sample larger than population or is negative\")\n",
      "        result = [None] * k\n",
      "        setsize = 21        # size of a small set minus size of an empty list\n",
      "        if k > 5:\n",
      "            setsize += 4 ** _ceil(_log(k * 3, 4))  # table size for big sets\n",
      "        if n <= setsize:\n",
      "            # An n-length list is smaller than a k-length set.\n",
      "            # Invariant:  non-selected at pool[0 : n-i]\n",
      "            pool = list(population)\n",
      "            for i in range(k):\n",
      "                j = randbelow(n - i)\n",
      "                result[i] = pool[j]\n",
      "                pool[j] = pool[n - i - 1]  # move non-selected item into vacancy\n",
      "        else:\n",
      "            selected = set()\n",
      "            selected_add = selected.add\n",
      "            for i in range(k):\n",
      "                j = randbelow(n)\n",
      "                while j in selected:\n",
      "                    j = randbelow(n)\n",
      "                selected_add(j)\n",
      "                result[i] = population[j]\n",
      "        return result\n",
      "\n",
      "    def choices(self, population, weights=None, *, cum_weights=None, k=1):\n",
      "        \"\"\"Return a k sized list of population elements chosen with replacement.\n",
      "\n",
      "        If the relative weights or cumulative weights are not specified,\n",
      "        the selections are made with equal probability.\n",
      "\n",
      "        \"\"\"\n",
      "        random = self.random\n",
      "        n = len(population)\n",
      "        if cum_weights is None:\n",
      "            if weights is None:\n",
      "                floor = _floor\n",
      "                n += 0.0    # convert to float for a small speed improvement\n",
      "                return [population[floor(random() * n)] for i in _repeat(None, k)]\n",
      "            try:\n",
      "                cum_weights = list(_accumulate(weights))\n",
      "            except TypeError:\n",
      "                if not isinstance(weights, int):\n",
      "                    raise\n",
      "                k = weights\n",
      "                raise TypeError(\n",
      "                    f'The number of choices must be a keyword argument: {k=}'\n",
      "                ) from None\n",
      "        elif weights is not None:\n",
      "            raise TypeError('Cannot specify both weights and cumulative weights')\n",
      "        if len(cum_weights) != n:\n",
      "            raise ValueError('The number of weights does not match the population')\n",
      "        total = cum_weights[-1] + 0.0   # convert to float\n",
      "        if total <= 0.0:\n",
      "            raise ValueError('Total of weights must be greater than zero')\n",
      "        if not _isfinite(total):\n",
      "            raise ValueError('Total of weights must be finite')\n",
      "        bisect = _bisect\n",
      "        hi = n - 1\n",
      "        return [population[bisect(cum_weights, random() * total, 0, hi)]\n",
      "                for i in _repeat(None, k)]\n",
      "\n",
      "\n",
      "    ## -------------------- real-valued distributions  -------------------\n",
      "\n",
      "    def uniform(self, a, b):\n",
      "        \"Get a random number in the range [a, b) or [a, b] depending on rounding.\"\n",
      "        return a + (b - a) * self.random()\n",
      "\n",
      "    def triangular(self, low=0.0, high=1.0, mode=None):\n",
      "        \"\"\"Triangular distribution.\n",
      "\n",
      "        Continuous distribution bounded by given lower and upper limits,\n",
      "        and having a given mode value in-between.\n",
      "\n",
      "        http://en.wikipedia.org/wiki/Triangular_distribution\n",
      "\n",
      "        \"\"\"\n",
      "        u = self.random()\n",
      "        try:\n",
      "            c = 0.5 if mode is None else (mode - low) / (high - low)\n",
      "        except ZeroDivisionError:\n",
      "            return low\n",
      "        if u > c:\n",
      "            u = 1.0 - u\n",
      "            c = 1.0 - c\n",
      "            low, high = high, low\n",
      "        return low + (high - low) * _sqrt(u * c)\n",
      "\n",
      "    def normalvariate(self, mu=0.0, sigma=1.0):\n",
      "        \"\"\"Normal distribution.\n",
      "\n",
      "        mu is the mean, and sigma is the standard deviation.\n",
      "\n",
      "        \"\"\"\n",
      "        # Uses Kinderman and Monahan method. Reference: Kinderman,\n",
      "        # A.J. and Monahan, J.F., \"Computer generation of random\n",
      "        # variables using the ratio of uniform deviates\", ACM Trans\n",
      "        # Math Software, 3, (1977), pp257-260.\n",
      "\n",
      "        random = self.random\n",
      "        while True:\n",
      "            u1 = random()\n",
      "            u2 = 1.0 - random()\n",
      "            z = NV_MAGICCONST * (u1 - 0.5) / u2\n",
      "            zz = z * z / 4.0\n",
      "            if zz <= -_log(u2):\n",
      "                break\n",
      "        return mu + z * sigma\n",
      "\n",
      "    def gauss(self, mu=0.0, sigma=1.0):\n",
      "        \"\"\"Gaussian distribution.\n",
      "\n",
      "        mu is the mean, and sigma is the standard deviation.  This is\n",
      "        slightly faster than the normalvariate() function.\n",
      "\n",
      "        Not thread-safe without a lock around calls.\n",
      "\n",
      "        \"\"\"\n",
      "        # When x and y are two variables from [0, 1), uniformly\n",
      "        # distributed, then\n",
      "        #\n",
      "        #    cos(2*pi*x)*sqrt(-2*log(1-y))\n",
      "        #    sin(2*pi*x)*sqrt(-2*log(1-y))\n",
      "        #\n",
      "        # are two *independent* variables with normal distribution\n",
      "        # (mu = 0, sigma = 1).\n",
      "        # (Lambert Meertens)\n",
      "        # (corrected version; bug discovered by Mike Miller, fixed by LM)\n",
      "\n",
      "        # Multithreading note: When two threads call this function\n",
      "        # simultaneously, it is possible that they will receive the\n",
      "        # same return value.  The window is very small though.  To\n",
      "        # avoid this, you have to use a lock around all calls.  (I\n",
      "        # didn't want to slow this down in the serial case by using a\n",
      "        # lock here.)\n",
      "\n",
      "        random = self.random\n",
      "        z = self.gauss_next\n",
      "        self.gauss_next = None\n",
      "        if z is None:\n",
      "            x2pi = random() * TWOPI\n",
      "            g2rad = _sqrt(-2.0 * _log(1.0 - random()))\n",
      "            z = _cos(x2pi) * g2rad\n",
      "            self.gauss_next = _sin(x2pi) * g2rad\n",
      "\n",
      "        return mu + z * sigma\n",
      "\n",
      "    def lognormvariate(self, mu, sigma):\n",
      "        \"\"\"Log normal distribution.\n",
      "\n",
      "        If you take the natural logarithm of this distribution, you'll get a\n",
      "        normal distribution with mean mu and standard deviation sigma.\n",
      "        mu can have any value, and sigma must be greater than zero.\n",
      "\n",
      "        \"\"\"\n",
      "        return _exp(self.normalvariate(mu, sigma))\n",
      "\n",
      "    def expovariate(self, lambd):\n",
      "        \"\"\"Exponential distribution.\n",
      "\n",
      "        lambd is 1.0 divided by the desired mean.  It should be\n",
      "        nonzero.  (The parameter would be called \"lambda\", but that is\n",
      "        a reserved word in Python.)  Returned values range from 0 to\n",
      "        positive infinity if lambd is positive, and from negative\n",
      "        infinity to 0 if lambd is negative.\n",
      "\n",
      "        \"\"\"\n",
      "        # lambd: rate lambd = 1/mean\n",
      "        # ('lambda' is a Python reserved word)\n",
      "\n",
      "        # we use 1-random() instead of random() to preclude the\n",
      "        # possibility of taking the log of zero.\n",
      "        return -_log(1.0 - self.random()) / lambd\n",
      "\n",
      "    def vonmisesvariate(self, mu, kappa):\n",
      "        \"\"\"Circular data distribution.\n",
      "\n",
      "        mu is the mean angle, expressed in radians between 0 and 2*pi, and\n",
      "        kappa is the concentration parameter, which must be greater than or\n",
      "        equal to zero.  If kappa is equal to zero, this distribution reduces\n",
      "        to a uniform random angle over the range 0 to 2*pi.\n",
      "\n",
      "        \"\"\"\n",
      "        # Based upon an algorithm published in: Fisher, N.I.,\n",
      "        # \"Statistical Analysis of Circular Data\", Cambridge\n",
      "        # University Press, 1993.\n",
      "\n",
      "        # Thanks to Magnus Kessler for a correction to the\n",
      "        # implementation of step 4.\n",
      "\n",
      "        random = self.random\n",
      "        if kappa <= 1e-6:\n",
      "            return TWOPI * random()\n",
      "\n",
      "        s = 0.5 / kappa\n",
      "        r = s + _sqrt(1.0 + s * s)\n",
      "\n",
      "        while True:\n",
      "            u1 = random()\n",
      "            z = _cos(_pi * u1)\n",
      "\n",
      "            d = z / (r + z)\n",
      "            u2 = random()\n",
      "            if u2 < 1.0 - d * d or u2 <= (1.0 - d) * _exp(d):\n",
      "                break\n",
      "\n",
      "        q = 1.0 / r\n",
      "        f = (q + z) / (1.0 + q * z)\n",
      "        u3 = random()\n",
      "        if u3 > 0.5:\n",
      "            theta = (mu + _acos(f)) % TWOPI\n",
      "        else:\n",
      "            theta = (mu - _acos(f)) % TWOPI\n",
      "\n",
      "        return theta\n",
      "\n",
      "    def gammavariate(self, alpha, beta):\n",
      "        \"\"\"Gamma distribution.  Not the gamma function!\n",
      "\n",
      "        Conditions on the parameters are alpha > 0 and beta > 0.\n",
      "\n",
      "        The probability distribution function is:\n",
      "\n",
      "                    x ** (alpha - 1) * math.exp(-x / beta)\n",
      "          pdf(x) =  --------------------------------------\n",
      "                      math.gamma(alpha) * beta ** alpha\n",
      "\n",
      "        \"\"\"\n",
      "        # alpha > 0, beta > 0, mean is alpha*beta, variance is alpha*beta**2\n",
      "\n",
      "        # Warning: a few older sources define the gamma distribution in terms\n",
      "        # of alpha > -1.0\n",
      "        if alpha <= 0.0 or beta <= 0.0:\n",
      "            raise ValueError('gammavariate: alpha and beta must be > 0.0')\n",
      "\n",
      "        random = self.random\n",
      "        if alpha > 1.0:\n",
      "\n",
      "            # Uses R.C.H. Cheng, \"The generation of Gamma\n",
      "            # variables with non-integral shape parameters\",\n",
      "            # Applied Statistics, (1977), 26, No. 1, p71-74\n",
      "\n",
      "            ainv = _sqrt(2.0 * alpha - 1.0)\n",
      "            bbb = alpha - LOG4\n",
      "            ccc = alpha + ainv\n",
      "\n",
      "            while True:\n",
      "                u1 = random()\n",
      "                if not 1e-7 < u1 < 0.9999999:\n",
      "                    continue\n",
      "                u2 = 1.0 - random()\n",
      "                v = _log(u1 / (1.0 - u1)) / ainv\n",
      "                x = alpha * _exp(v)\n",
      "                z = u1 * u1 * u2\n",
      "                r = bbb + ccc * v - x\n",
      "                if r + SG_MAGICCONST - 4.5 * z >= 0.0 or r >= _log(z):\n",
      "                    return x * beta\n",
      "\n",
      "        elif alpha == 1.0:\n",
      "            # expovariate(1/beta)\n",
      "            return -_log(1.0 - random()) * beta\n",
      "\n",
      "        else:\n",
      "            # alpha is between 0 and 1 (exclusive)\n",
      "            # Uses ALGORITHM GS of Statistical Computing - Kennedy & Gentle\n",
      "            while True:\n",
      "                u = random()\n",
      "                b = (_e + alpha) / _e\n",
      "                p = b * u\n",
      "                if p <= 1.0:\n",
      "                    x = p ** (1.0 / alpha)\n",
      "                else:\n",
      "                    x = -_log((b - p) / alpha)\n",
      "                u1 = random()\n",
      "                if p > 1.0:\n",
      "                    if u1 <= x ** (alpha - 1.0):\n",
      "                        break\n",
      "                elif u1 <= _exp(-x):\n",
      "                    break\n",
      "            return x * beta\n",
      "\n",
      "    def betavariate(self, alpha, beta):\n",
      "        \"\"\"Beta distribution.\n",
      "\n",
      "        Conditions on the parameters are alpha > 0 and beta > 0.\n",
      "        Returned values range between 0 and 1.\n",
      "\n",
      "        \"\"\"\n",
      "        ## See\n",
      "        ## http://mail.python.org/pipermail/python-bugs-list/2001-January/003752.html\n",
      "        ## for Ivan Frohne's insightful analysis of why the original implementation:\n",
      "        ##\n",
      "        ##    def betavariate(self, alpha, beta):\n",
      "        ##        # Discrete Event Simulation in C, pp 87-88.\n",
      "        ##\n",
      "        ##        y = self.expovariate(alpha)\n",
      "        ##        z = self.expovariate(1.0/beta)\n",
      "        ##        return z/(y+z)\n",
      "        ##\n",
      "        ## was dead wrong, and how it probably got that way.\n",
      "\n",
      "        # This version due to Janne Sinkkonen, and matches all the std\n",
      "        # texts (e.g., Knuth Vol 2 Ed 3 pg 134 \"the beta distribution\").\n",
      "        y = self.gammavariate(alpha, 1.0)\n",
      "        if y:\n",
      "            return y / (y + self.gammavariate(beta, 1.0))\n",
      "        return 0.0\n",
      "\n",
      "    def paretovariate(self, alpha):\n",
      "        \"\"\"Pareto distribution.  alpha is the shape parameter.\"\"\"\n",
      "        # Jain, pg. 495\n",
      "\n",
      "        u = 1.0 - self.random()\n",
      "        return u ** (-1.0 / alpha)\n",
      "\n",
      "    def weibullvariate(self, alpha, beta):\n",
      "        \"\"\"Weibull distribution.\n",
      "\n",
      "        alpha is the scale parameter and beta is the shape parameter.\n",
      "\n",
      "        \"\"\"\n",
      "        # Jain, pg. 499; bug fix courtesy Bill Arms\n",
      "\n",
      "        u = 1.0 - self.random()\n",
      "        return alpha * (-_log(u)) ** (1.0 / beta)\n",
      "\n",
      "\n",
      "## ------------------------------------------------------------------\n",
      "## --------------- Operating System Random Source  ------------------\n",
      "\n",
      "\n",
      "class SystemRandom(Random):\n",
      "    \"\"\"Alternate random number generator using sources provided\n",
      "    by the operating system (such as /dev/urandom on Unix or\n",
      "    CryptGenRandom on Windows).\n",
      "\n",
      "     Not available on all systems (see os.urandom() for details).\n",
      "\n",
      "    \"\"\"\n",
      "\n",
      "    def random(self):\n",
      "        \"\"\"Get the next random number in the range 0.0 <= X < 1.0.\"\"\"\n",
      "        return (int.from_bytes(_urandom(7)) >> 3) * RECIP_BPF\n",
      "\n",
      "    def getrandbits(self, k):\n",
      "        \"\"\"getrandbits(k) -> x.  Generates an int with k random bits.\"\"\"\n",
      "        if k < 0:\n",
      "            raise ValueError('number of bits must be non-negative')\n",
      "        numbytes = (k + 7) // 8                       # bits / 8 and rounded up\n",
      "        x = int.from_bytes(_urandom(numbytes))\n",
      "        return x >> (numbytes * 8 - k)                # trim excess bits\n",
      "\n",
      "    def randbytes(self, n):\n",
      "        \"\"\"Generate n random bytes.\"\"\"\n",
      "        # os.urandom(n) fails with ValueError for n < 0\n",
      "        # and returns an empty bytes string for n == 0.\n",
      "        return _urandom(n)\n",
      "\n",
      "    def seed(self, *args, **kwds):\n",
      "        \"Stub method.  Not used for a system random number generator.\"\n",
      "        return None\n",
      "\n",
      "    def _notimplemented(self, *args, **kwds):\n",
      "        \"Method should not be called for a system random number generator.\"\n",
      "        raise NotImplementedError('System entropy source does not have state.')\n",
      "    getstate = setstate = _notimplemented\n",
      "\n",
      "\n",
      "# ----------------------------------------------------------------------\n",
      "# Create one instance, seeded from current time, and export its methods\n",
      "# as module-level functions.  The functions share state across all uses\n",
      "# (both in the user's code and in the Python libraries), but that's fine\n",
      "# for most programs and is easier for the casual user than making them\n",
      "# instantiate their own Random() instance.\n",
      "\n",
      "_inst = Random()\n",
      "seed = _inst.seed\n",
      "random = _inst.random\n",
      "uniform = _inst.uniform\n",
      "triangular = _inst.triangular\n",
      "randint = _inst.randint\n",
      "choice = _inst.choice\n",
      "randrange = _inst.randrange\n",
      "sample = _inst.sample\n",
      "shuffle = _inst.shuffle\n",
      "choices = _inst.choices\n",
      "normalvariate = _inst.normalvariate\n",
      "lognormvariate = _inst.lognormvariate\n",
      "expovariate = _inst.expovariate\n",
      "vonmisesvariate = _inst.vonmisesvariate\n",
      "gammavariate = _inst.gammavariate\n",
      "gauss = _inst.gauss\n",
      "betavariate = _inst.betavariate\n",
      "paretovariate = _inst.paretovariate\n",
      "weibullvariate = _inst.weibullvariate\n",
      "getstate = _inst.getstate\n",
      "setstate = _inst.setstate\n",
      "getrandbits = _inst.getrandbits\n",
      "randbytes = _inst.randbytes\n",
      "\n",
      "\n",
      "## ------------------------------------------------------\n",
      "## ----------------- test program -----------------------\n",
      "\n",
      "def _test_generator(n, func, args):\n",
      "    from statistics import stdev, fmean as mean\n",
      "    from time import perf_counter\n",
      "\n",
      "    t0 = perf_counter()\n",
      "    data = [func(*args) for i in _repeat(None, n)]\n",
      "    t1 = perf_counter()\n",
      "\n",
      "    xbar = mean(data)\n",
      "    sigma = stdev(data, xbar)\n",
      "    low = min(data)\n",
      "    high = max(data)\n",
      "\n",
      "    print(f'{t1 - t0:.3f} sec, {n} times {func.__name__}')\n",
      "    print('avg %g, stddev %g, min %g, max %g\\n' % (xbar, sigma, low, high))\n",
      "\n",
      "\n",
      "def _test(N=2000):\n",
      "    _test_generator(N, random, ())\n",
      "    _test_generator(N, normalvariate, (0.0, 1.0))\n",
      "    _test_generator(N, lognormvariate, (0.0, 1.0))\n",
      "    _test_generator(N, vonmisesvariate, (0.0, 1.0))\n",
      "    _test_generator(N, gammavariate, (0.01, 1.0))\n",
      "    _test_generator(N, gammavariate, (0.1, 1.0))\n",
      "    _test_generator(N, gammavariate, (0.1, 2.0))\n",
      "    _test_generator(N, gammavariate, (0.5, 1.0))\n",
      "    _test_generator(N, gammavariate, (0.9, 1.0))\n",
      "    _test_generator(N, gammavariate, (1.0, 1.0))\n",
      "    _test_generator(N, gammavariate, (2.0, 1.0))\n",
      "    _test_generator(N, gammavariate, (20.0, 1.0))\n",
      "    _test_generator(N, gammavariate, (200.0, 1.0))\n",
      "    _test_generator(N, gauss, (0.0, 1.0))\n",
      "    _test_generator(N, betavariate, (3.0, 3.0))\n",
      "    _test_generator(N, triangular, (0.0, 1.0, 1.0 / 3.0))\n",
      "\n",
      "\n",
      "## ------------------------------------------------------\n",
      "## ------------------ fork support  ---------------------\n",
      "\n",
      "if hasattr(_os, \"fork\"):\n",
      "    _os.register_at_fork(after_in_child=_inst.seed)\n",
      "\n",
      "\n",
      "if __name__ == '__main__':\n",
      "    _test()\n"
     ]
    }
   ],
   "source": [
    "%%sh\n",
    "## you can just uncomment next line to `cat` or concatenate the source file to see \n",
    "## what is really under the hoood! Power of Python!!\n",
    "## cat /usr/local/Caskroom/miniconda/base/envs/ITDS2025/lib/python3.11/random.py"
   ]
  }
 ],
 "metadata": {
  "kernelspec": {
   "display_name": "ITDS2025",
   "language": "python",
   "name": "python3"
  },
  "language_info": {
   "codemirror_mode": {
    "name": "ipython",
    "version": 3
   },
   "file_extension": ".py",
   "mimetype": "text/x-python",
   "name": "python",
   "nbconvert_exporter": "python",
   "pygments_lexer": "ipython3",
   "version": "3.11.13"
  },
  "lx_course_instance": "2025",
  "lx_course_name": "Introduction to Data Science",
  "lx_course_number": "1MS041"
 },
 "nbformat": 4,
 "nbformat_minor": 5
}
